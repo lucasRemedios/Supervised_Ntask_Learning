{
 "cells": [
  {
   "cell_type": "markdown",
   "metadata": {},
   "source": [
    "# This notebook just shows that a neural network using the Context Layer has the capacity to learn several MNIST tasks mapped to its different contexts.\n",
    "# However, this is not dynamic like the logic gate experiment"
   ]
  },
  {
   "cell_type": "code",
   "execution_count": 1,
   "metadata": {},
   "outputs": [],
   "source": [
    "import tensorflow as tf\n",
    "from tensorflow.keras.layers import Input, Dense, Conv2D, Flatten, MaxPooling2D, GlobalMaxPooling2D\n",
    "from tensorflow.keras.models import Model\n",
    "from tensorflow.keras import backend as K\n",
    "import os\n",
    "import numpy as np\n",
    "\n",
    "from tensorflow.keras.datasets import mnist\n",
    "\n",
    "\n",
    "from Context_Layer import Context as Ntask\n",
    "\n",
    "import matplotlib.pyplot as plt\n",
    "\n",
    "\n",
    "from tqdm.notebook import tqdm\n",
    "import time\n",
    "\n",
    "\n",
    "\n",
    "from numpy.random import seed\n",
    "seed(1)\n",
    "#from tensorflow import random\n",
    "#random.set_seed(2)\n"
   ]
  },
  {
   "cell_type": "markdown",
   "metadata": {},
   "source": [
    "#### Load MNIST Test & Train Data"
   ]
  },
  {
   "cell_type": "code",
   "execution_count": 5,
   "metadata": {},
   "outputs": [],
   "source": [
    "train, test = mnist.load_data()"
   ]
  },
  {
   "cell_type": "markdown",
   "metadata": {},
   "source": [
    "# Create General MNIST train and test numpy datasets"
   ]
  },
  {
   "cell_type": "markdown",
   "metadata": {},
   "source": [
    "#### X_train := train[0] & y_train := train[1]"
   ]
  },
  {
   "cell_type": "code",
   "execution_count": 12,
   "metadata": {},
   "outputs": [],
   "source": [
    "X_train, y_train = train"
   ]
  },
  {
   "cell_type": "markdown",
   "metadata": {},
   "source": [
    "#### X_test := test[0] & y_test := test[1]"
   ]
  },
  {
   "cell_type": "code",
   "execution_count": 13,
   "metadata": {},
   "outputs": [],
   "source": [
    "X_test, y_test = test"
   ]
  },
  {
   "cell_type": "markdown",
   "metadata": {},
   "source": [
    "# Normalize input images for train and test datasets"
   ]
  },
  {
   "cell_type": "markdown",
   "metadata": {},
   "source": [
    "#### Cast X_train values to 32-bit floats and Normalize X_train"
   ]
  },
  {
   "cell_type": "code",
   "execution_count": 14,
   "metadata": {},
   "outputs": [],
   "source": [
    "X_train = X_train.astype(np.float32)\n",
    "X_train /= 255.0"
   ]
  },
  {
   "cell_type": "markdown",
   "metadata": {},
   "source": [
    "#### Cast X_test values to 32-bit floats and Normalize X_test"
   ]
  },
  {
   "cell_type": "code",
   "execution_count": 15,
   "metadata": {},
   "outputs": [],
   "source": [
    "X_test = X_test.astype(np.float32)\n",
    "X_test /= 255.0"
   ]
  },
  {
   "cell_type": "markdown",
   "metadata": {},
   "source": [
    "#### Reshape X_train so that it is the shape that Conv2D expects"
   ]
  },
  {
   "cell_type": "code",
   "execution_count": 16,
   "metadata": {},
   "outputs": [
    {
     "name": "stdout",
     "output_type": "stream",
     "text": [
      "(60000, 28, 28, 1)\n"
     ]
    },
    {
     "data": {
      "text/plain": [
       "(28, 28, 1)"
      ]
     },
     "execution_count": 16,
     "metadata": {},
     "output_type": "execute_result"
    }
   ],
   "source": [
    "img_rows = 28\n",
    "img_cols = 28\n",
    "num_channels = 1\n",
    "\n",
    "X_train = X_train.reshape(X_train.shape[0], img_rows, img_cols, num_channels)\n",
    "\n",
    "print(X_train.shape)\n",
    "\n",
    "X_train[0].shape"
   ]
  },
  {
   "cell_type": "markdown",
   "metadata": {},
   "source": [
    "#### Reshape X_test so that it is the shape that Conv2D expects\n"
   ]
  },
  {
   "cell_type": "code",
   "execution_count": 17,
   "metadata": {},
   "outputs": [
    {
     "name": "stdout",
     "output_type": "stream",
     "text": [
      "(10000, 28, 28, 1)\n"
     ]
    },
    {
     "data": {
      "text/plain": [
       "(28, 28, 1)"
      ]
     },
     "execution_count": 17,
     "metadata": {},
     "output_type": "execute_result"
    }
   ],
   "source": [
    "X_test = X_test.reshape(X_test.shape[0], img_rows, img_cols, num_channels)\n",
    "\n",
    "print(X_test.shape)\n",
    "\n",
    "X_test[0].shape"
   ]
  },
  {
   "cell_type": "markdown",
   "metadata": {},
   "source": [
    "# Create MNIST tf dataset"
   ]
  },
  {
   "cell_type": "markdown",
   "metadata": {},
   "source": [
    "#### tf dataset for training images and labels"
   ]
  },
  {
   "cell_type": "code",
   "execution_count": 18,
   "metadata": {},
   "outputs": [],
   "source": [
    "train_ds = tf.data.Dataset.from_tensor_slices((X_train, y_train))"
   ]
  },
  {
   "cell_type": "code",
   "execution_count": 19,
   "metadata": {},
   "outputs": [],
   "source": [
    "test_ds = tf.data.Dataset.from_tensor_slices((X_test, y_test))"
   ]
  },
  {
   "cell_type": "markdown",
   "metadata": {},
   "source": [
    "# MNIST Shuffle and minibatch train_ds & test_ds"
   ]
  },
  {
   "cell_type": "markdown",
   "metadata": {},
   "source": [
    "#### Shuffle entire dataset (shuffle_buffer_size := 60k = num_train_examples) & make mini-batches of 32 examples"
   ]
  },
  {
   "cell_type": "code",
   "execution_count": 20,
   "metadata": {},
   "outputs": [],
   "source": [
    "# Explanation from TensorFlow: \"This dataset fills a buffer with buffer_size elements, \n",
    "# then randomly samples elements from this buffer, replacing the selected elements with new elements. \n",
    "# For perfect shuffling, a buffer size greater than or equal to the full size of the dataset is required.\" \n",
    "# https://www.tensorflow.org/api_docs/python/tf/data/Dataset?version=stable"
   ]
  },
  {
   "cell_type": "code",
   "execution_count": 21,
   "metadata": {},
   "outputs": [
    {
     "name": "stdout",
     "output_type": "stream",
     "text": [
      "WARNING:tensorflow:From d:\\anaconda\\envs\\tensorflow_1.15\\lib\\site-packages\\tensorflow_core\\python\\data\\util\\random_seed.py:58: where (from tensorflow.python.ops.array_ops) is deprecated and will be removed in a future version.\n",
      "Instructions for updating:\n",
      "Use tf.where in 2.0, which has the same broadcast rule as np.where\n"
     ]
    }
   ],
   "source": [
    "train_ds = train_ds.shuffle(60000, seed=1).batch(32)"
   ]
  },
  {
   "cell_type": "code",
   "execution_count": 22,
   "metadata": {},
   "outputs": [],
   "source": [
    "test_ds = test_ds.shuffle(10000, seed=1).batch(32)"
   ]
  },
  {
   "cell_type": "markdown",
   "metadata": {},
   "source": [
    "# Create \"is it odd?\" tf dataset"
   ]
  },
  {
   "cell_type": "code",
   "execution_count": 23,
   "metadata": {},
   "outputs": [],
   "source": [
    "y_odd_train = np.loadtxt(\"train_labels_mnist_odd_classification\").astype(np.uint8)"
   ]
  },
  {
   "cell_type": "code",
   "execution_count": 24,
   "metadata": {},
   "outputs": [],
   "source": [
    "y_odd_test = np.loadtxt(\"test_labels_mnist_odd_classification\").astype(np.uint8)"
   ]
  },
  {
   "cell_type": "code",
   "execution_count": 25,
   "metadata": {},
   "outputs": [],
   "source": [
    "odd_train_ds = tf.data.Dataset.from_tensor_slices((X_train, y_odd_train))"
   ]
  },
  {
   "cell_type": "code",
   "execution_count": 26,
   "metadata": {},
   "outputs": [],
   "source": [
    "odd_test_ds = tf.data.Dataset.from_tensor_slices((X_test, y_odd_test))"
   ]
  },
  {
   "cell_type": "markdown",
   "metadata": {},
   "source": [
    "# \"is it odd?\" Shuffle and minibatch train and test datasets"
   ]
  },
  {
   "cell_type": "code",
   "execution_count": 27,
   "metadata": {},
   "outputs": [],
   "source": [
    "odd_train_ds = odd_train_ds.shuffle(60000, seed=1).batch(32)"
   ]
  },
  {
   "cell_type": "code",
   "execution_count": 28,
   "metadata": {},
   "outputs": [],
   "source": [
    "odd_test_ds = odd_test_ds.shuffle(10000, seed=1).batch(32)"
   ]
  },
  {
   "cell_type": "markdown",
   "metadata": {},
   "source": [
    "# Dataset label creation"
   ]
  },
  {
   "cell_type": "code",
   "execution_count": 29,
   "metadata": {},
   "outputs": [],
   "source": [
    "# div by 3 training and testing labels\n",
    "div_3_y_train = (y_train%3 == 0).astype(np.uint8)\n",
    "div_3_y_test = (y_test%3 == 0).astype(np.uint8)\n",
    "\n",
    "# div by 5 training and testing labels\n",
    "div_5_y_train = (y_train%5 == 0).astype(np.uint8)\n",
    "div_5_y_test = (y_test%5 == 0).astype(np.uint8)\n",
    "\n",
    "# even training and testing labels\n",
    "even_y_train = (y_train%2 == 0).astype(np.uint8)\n",
    "even_y_test = (y_test%2 == 0).astype(np.uint8)\n",
    "\n",
    "# bottom half training and testing labels\n",
    "bottom_y_train = (y_train<5).astype(np.uint8)\n",
    "bottom_y_test = (y_test<5).astype(np.uint8)\n",
    "\n",
    "# top half training and testing labels\n",
    "top_y_train = (y_train>4).astype(np.uint8)\n",
    "top_y_test = (y_test>4).astype(np.uint8)\n"
   ]
  },
  {
   "cell_type": "code",
   "execution_count": 30,
   "metadata": {},
   "outputs": [],
   "source": [
    "def are_labels_correct(mnist_train_labels, mnist_test_labels, custom_task_train_labels, custom_task_test_labels):\n",
    "    print(\"mnist train y: \", mnist_train_labels[:10])\n",
    "    print(\"custom train y:\", custom_task_train_labels[:10])\n",
    "    \n",
    "    print(\"mnist test y: \", mnist_test_labels[:10])\n",
    "    print(\"custom test y:\", custom_task_test_labels[:10])\n"
   ]
  },
  {
   "cell_type": "code",
   "execution_count": 31,
   "metadata": {},
   "outputs": [
    {
     "name": "stdout",
     "output_type": "stream",
     "text": [
      "mnist train y:  [5 0 4 1 9 2 1 3 1 4]\n",
      "custom train y: [0 1 0 0 1 0 0 1 0 0]\n",
      "mnist test y:  [7 2 1 0 4 1 4 9 5 9]\n",
      "custom test y: [0 0 0 1 0 0 0 1 0 1]\n"
     ]
    }
   ],
   "source": [
    "are_labels_correct(y_train, y_test, div_3_y_train, div_3_y_test)"
   ]
  },
  {
   "cell_type": "code",
   "execution_count": 32,
   "metadata": {},
   "outputs": [
    {
     "name": "stdout",
     "output_type": "stream",
     "text": [
      "mnist train y:  [5 0 4 1 9 2 1 3 1 4]\n",
      "custom train y: [1 1 0 0 0 0 0 0 0 0]\n",
      "mnist test y:  [7 2 1 0 4 1 4 9 5 9]\n",
      "custom test y: [0 0 0 1 0 0 0 0 1 0]\n"
     ]
    }
   ],
   "source": [
    "are_labels_correct(y_train, y_test, div_5_y_train, div_5_y_test)"
   ]
  },
  {
   "cell_type": "code",
   "execution_count": 33,
   "metadata": {},
   "outputs": [
    {
     "name": "stdout",
     "output_type": "stream",
     "text": [
      "mnist train y:  [5 0 4 1 9 2 1 3 1 4]\n",
      "custom train y: [0 1 1 0 0 1 0 0 0 1]\n",
      "mnist test y:  [7 2 1 0 4 1 4 9 5 9]\n",
      "custom test y: [0 1 0 1 1 0 1 0 0 0]\n"
     ]
    }
   ],
   "source": [
    "are_labels_correct(y_train, y_test, even_y_train, even_y_test)"
   ]
  },
  {
   "cell_type": "code",
   "execution_count": 34,
   "metadata": {},
   "outputs": [
    {
     "name": "stdout",
     "output_type": "stream",
     "text": [
      "mnist train y:  [5 0 4 1 9 2 1 3 1 4]\n",
      "custom train y: [0 1 1 1 0 1 1 1 1 1]\n",
      "mnist test y:  [7 2 1 0 4 1 4 9 5 9]\n",
      "custom test y: [0 1 1 1 1 1 1 0 0 0]\n"
     ]
    }
   ],
   "source": [
    "are_labels_correct(y_train, y_test, bottom_y_train, bottom_y_test)"
   ]
  },
  {
   "cell_type": "code",
   "execution_count": 35,
   "metadata": {},
   "outputs": [
    {
     "name": "stdout",
     "output_type": "stream",
     "text": [
      "mnist train y:  [5 0 4 1 9 2 1 3 1 4]\n",
      "custom train y: [1 0 0 0 1 0 0 0 0 0]\n",
      "mnist test y:  [7 2 1 0 4 1 4 9 5 9]\n",
      "custom test y: [1 0 0 0 0 0 0 1 1 1]\n"
     ]
    }
   ],
   "source": [
    "are_labels_correct(y_train, y_test, top_y_train, top_y_test)"
   ]
  },
  {
   "cell_type": "markdown",
   "metadata": {},
   "source": [
    "# tf dataset creation"
   ]
  },
  {
   "cell_type": "code",
   "execution_count": 36,
   "metadata": {},
   "outputs": [],
   "source": [
    "def make_new_task_train_and_test_datasets(new_train_labels, new_test_labels):\n",
    "    \n",
    "    train_dataset = tf.data.Dataset.from_tensor_slices((X_train, new_train_labels))\n",
    "    test_dataset = tf.data.Dataset.from_tensor_slices((X_test, new_test_labels))\n",
    "    \n",
    "    return train_dataset, test_dataset\n",
    "    "
   ]
  },
  {
   "cell_type": "code",
   "execution_count": null,
   "metadata": {},
   "outputs": [],
   "source": []
  },
  {
   "cell_type": "code",
   "execution_count": 37,
   "metadata": {},
   "outputs": [],
   "source": [
    "div_3_train_ds, div_3_test_ds = make_new_task_train_and_test_datasets(div_3_y_train, div_3_y_test)\n",
    "\n",
    "div_5_train_ds, div_5_test_ds = make_new_task_train_and_test_datasets(div_5_y_train, div_5_y_test)\n",
    "\n",
    "even_train_ds, even_test_ds = make_new_task_train_and_test_datasets(even_y_train, even_y_test)\n",
    "\n",
    "bottom_train_ds, bottom_test_ds = make_new_task_train_and_test_datasets(bottom_y_train, bottom_y_test)\n",
    "\n",
    "top_train_ds, top_test_ds = make_new_task_train_and_test_datasets(top_y_train, top_y_test)\n",
    "\n"
   ]
  },
  {
   "cell_type": "markdown",
   "metadata": {},
   "source": [
    "# Shuffle"
   ]
  },
  {
   "cell_type": "code",
   "execution_count": 38,
   "metadata": {},
   "outputs": [],
   "source": [
    "div_3_train_ds = div_3_train_ds.shuffle(60000, seed=1).batch(32)\n",
    "div_3_test_ds = div_3_test_ds.shuffle(60000, seed=1).batch(32)\n",
    "\n",
    "div_5_train_ds = div_5_train_ds.shuffle(60000, seed=1).batch(32)\n",
    "div_5_test_ds = div_5_test_ds.shuffle(60000, seed=1).batch(32)\n",
    "\n",
    "even_train_ds = even_train_ds.shuffle(60000, seed=1).batch(32)\n",
    "even_test_ds = even_test_ds.shuffle(60000, seed=1).batch(32)\n",
    "\n",
    "bottom_train_ds = bottom_train_ds.shuffle(60000, seed=1).batch(32)\n",
    "bottom_test_ds = bottom_test_ds.shuffle(60000, seed=1).batch(32)\n",
    "\n",
    "top_train_ds = top_train_ds.shuffle(60000, seed=1).batch(32)\n",
    "top_test_ds = top_test_ds.shuffle(60000, seed=1).batch(32)"
   ]
  },
  {
   "cell_type": "markdown",
   "metadata": {},
   "source": [
    "# Architecture"
   ]
  },
  {
   "cell_type": "code",
   "execution_count": 39,
   "metadata": {},
   "outputs": [],
   "source": [
    "# model based off of https://www.tensorflow.org/guide/data"
   ]
  },
  {
   "cell_type": "code",
   "execution_count": 40,
   "metadata": {},
   "outputs": [
    {
     "name": "stdout",
     "output_type": "stream",
     "text": [
      "init called\n"
     ]
    }
   ],
   "source": [
    "conv_model = tf.keras.Sequential([\n",
    "  tf.keras.layers.Conv2D(filters=16, kernel_size=(3,3), padding=\"same\", activation=\"relu\", use_bias=True),\n",
    "  tf.keras.layers.Conv2D(filters=16, kernel_size=(3,3), padding=\"same\", activation=\"relu\", use_bias=True),\n",
    "  tf.keras.layers.Conv2D(filters=16, kernel_size=(3,3), padding=\"same\", activation=\"relu\", use_bias=True),\n",
    "  tf.keras.layers.Conv2D(filters=16, kernel_size=(3,3), padding=\"same\", activation=\"relu\", use_bias=True),\n",
    "  tf.keras.layers.Conv2D(filters=16, kernel_size=(3,3), padding=\"same\", activation=\"relu\", use_bias=True),\n",
    "\n",
    "\n",
    "\n",
    "\n",
    "  tf.keras.layers.Flatten(),\n",
    "    \n",
    "  Ntask(num_hrrs=7),  \n",
    "    \n",
    "  tf.keras.layers.Dense(10, activation=\"softmax\", use_bias=True)\n",
    "])"
   ]
  },
  {
   "cell_type": "code",
   "execution_count": 41,
   "metadata": {},
   "outputs": [],
   "source": [
    "n_task_idx = 6"
   ]
  },
  {
   "cell_type": "code",
   "execution_count": null,
   "metadata": {},
   "outputs": [],
   "source": []
  },
  {
   "cell_type": "code",
   "execution_count": 42,
   "metadata": {},
   "outputs": [],
   "source": [
    "conv_model.compile(optimizer='adam',\n",
    "              loss=tf.keras.losses.SparseCategoricalCrossentropy(), \n",
    "              metrics=['accuracy'])"
   ]
  },
  {
   "cell_type": "code",
   "execution_count": 43,
   "metadata": {},
   "outputs": [],
   "source": [
    "# conv_model.summary()"
   ]
  },
  {
   "cell_type": "markdown",
   "metadata": {},
   "source": [
    "##### Test model performance utility function"
   ]
  },
  {
   "cell_type": "code",
   "execution_count": 44,
   "metadata": {},
   "outputs": [],
   "source": [
    "def eval_performance(model, test_dataset):   \n",
    "    score = model.evaluate(test_dataset)\n",
    "    print('Test loss:', score[0])\n",
    "    print('Test accuracy:', score[1])"
   ]
  },
  {
   "cell_type": "markdown",
   "metadata": {},
   "source": [
    "# Training"
   ]
  },
  {
   "cell_type": "markdown",
   "metadata": {},
   "source": [
    "# This works: 100 multi_epochs, 1 epoch per task, 5 conv layers(16, (3,3)) "
   ]
  },
  {
   "cell_type": "code",
   "execution_count": 45,
   "metadata": {},
   "outputs": [],
   "source": [
    "n_epochs = 100\n",
    "epcohs_per_task=1"
   ]
  },
  {
   "cell_type": "markdown",
   "metadata": {},
   "source": [
    "# Manually training each task on a respective context -- NOT DYNAMIC"
   ]
  },
  {
   "cell_type": "code",
   "execution_count": 46,
   "metadata": {},
   "outputs": [
    {
     "data": {
      "application/vnd.jupyter.widget-view+json": {
       "model_id": "21794918d05d454b9705bc2164c784fa",
       "version_major": 2,
       "version_minor": 0
      },
      "text/plain": [
       "HBox(children=(FloatProgress(value=0.0), HTML(value='')))"
      ]
     },
     "metadata": {},
     "output_type": "display_data"
    },
    {
     "name": "stdout",
     "output_type": "stream",
     "text": [
      "build called\n",
      "hardcoed_contexts=False\n",
      "1875/1875 [==============================] - 12s 7ms/step - loss: 0.1330 - acc: 0.9601\n",
      "1875/1875 [==============================] - 10s 5ms/step - loss: 0.0790 - acc: 0.973092\n",
      "1875/1875 [==============================] - 10s 5ms/step - loss: 0.1061 - acc: 0.9603\n",
      "1875/1875 [==============================] - 10s 6ms/step - loss: 0.0474 - acc: 0.9838\n",
      "1875/1875 [==============================] - 10s 5ms/step - loss: 0.0624 - acc: 0.9779\n",
      "1875/1875 [==============================] - 10s 5ms/step - loss: 0.0796 - acc: 0.9713\n",
      "1875/1875 [==============================] - 10s 5ms/step - loss: 0.0743 - acc: 0.9740\n",
      "1875/1875 [==============================] - 10s 5ms/step - loss: 0.0980 - acc: 0.971982 - acc: \n",
      "1875/1875 [==============================] - 10s 5ms/step - loss: 0.0478 - acc: 0.9834\n",
      "1875/1875 [==============================] - 10s 5ms/step - loss: 0.0746 - acc: 0.9733\n",
      "1875/1875 [==============================] - 10s 5ms/step - loss: 0.0352 - acc: 0.9878\n",
      "1875/1875 [==============================] - 10s 5ms/step - loss: 0.0410 - acc: 0.9866\n",
      "1875/1875 [==============================] - 10s 5ms/step - loss: 0.0610 - acc: 0.9782\n",
      "1875/1875 [==============================] - 10s 5ms/step - loss: 0.0510 - acc: 0.9827\n",
      "1875/1875 [==============================] - 10s 5ms/step - loss: 0.0513 - acc: 0.9845\n",
      "1875/1875 [==============================] - 10s 5ms/step - loss: 0.0358 - acc: 0.9875\n",
      "1875/1875 [==============================] - 10s 5ms/step - loss: 0.0623 - acc: 0.9780\n",
      "1875/1875 [==============================] - 10s 5ms/step - loss: 0.0278 - acc: 0.9907\n",
      "1875/1875 [==============================] - 10s 5ms/step - loss: 0.0343 - acc: 0.9888\n",
      "1875/1875 [==============================] - 10s 5ms/step - loss: 0.0517 - acc: 0.9816\n",
      "1875/1875 [==============================] - 10s 5ms/step - loss: 0.0418 - acc: 0.9855\n",
      "1875/1875 [==============================] - 10s 5ms/step - loss: 0.0380 - acc: 0.9888\n",
      "1875/1875 [==============================] - 10s 5ms/step - loss: 0.0309 - acc: 0.9893\n",
      "1875/1875 [==============================] - 10s 5ms/step - loss: 0.0562 - acc: 0.9806\n",
      "1875/1875 [==============================] - 10s 5ms/step - loss: 0.0264 - acc: 0.9912\n",
      "1875/1875 [==============================] - 10s 5ms/step - loss: 0.0309 - acc: 0.9898\n",
      "1875/1875 [==============================] - 10s 5ms/step - loss: 0.0493 - acc: 0.9831\n",
      "1875/1875 [==============================] - 10s 5ms/step - loss: 0.0380 - acc: 0.9869\n",
      "1875/1875 [==============================] - 10s 5ms/step - loss: 0.0303 - acc: 0.9905\n",
      "1875/1875 [==============================] - 10s 6ms/step - loss: 0.0264 - acc: 0.9910\n",
      "1875/1875 [==============================] - 10s 5ms/step - loss: 0.0518 - acc: 0.9818\n",
      "1875/1875 [==============================] - 10s 6ms/step - loss: 0.0237 - acc: 0.9913\n",
      "1875/1875 [==============================] - 10s 5ms/step - loss: 0.0286 - acc: 0.9907\n",
      "1875/1875 [==============================] - 10s 5ms/step - loss: 0.0445 - acc: 0.9844\n",
      "1875/1875 [==============================] - 10s 5ms/step - loss: 0.0345 - acc: 0.9881\n",
      "1875/1875 [==============================] - 10s 5ms/step - loss: 0.0252 - acc: 0.9918\n",
      "1875/1875 [==============================] - 10s 5ms/step - loss: 0.0244 - acc: 0.9916\n",
      "1875/1875 [==============================] - 10s 5ms/step - loss: 0.0502 - acc: 0.9829\n",
      "1875/1875 [==============================] - 10s 5ms/step - loss: 0.0227 - acc: 0.9923\n",
      "1875/1875 [==============================]268 - acc: 0.9913- - 10s 5ms/step - loss: 0.0268 - acc: 0.9913\n",
      "1875/1875 [==============================] - 10s 5ms/step - loss: 0.0424 - acc: 0.9845\n",
      "1875/1875 [==============================] - 10s 6ms/step - loss: 0.0331 - acc: 0.9884\n",
      "1875/1875 [==============================] - 10s 5ms/step - loss: 0.0235 - acc: 0.9927\n",
      "1875/1875 [==============================] - 10s 5ms/step - loss: 0.0234 - acc: 0.9922\n",
      "1875/1875 [==============================] - 10s 5ms/step - loss: 0.0478 - acc: 0.9833\n",
      "1875/1875 [==============================] - 10s 6ms/step - loss: 0.0220 - acc: 0.9923\n",
      "1875/1875 [==============================] - 10s 5ms/step - loss: 0.0259 - acc: 0.9911\n",
      "1875/1875 [==============================] - 10s 5ms/step - loss: 0.0405 - acc: 0.9857\n",
      "1875/1875 [==============================] - 10s 5ms/step - loss: 0.0313 - acc: 0.9890\n",
      "1875/1875 [==============================] - 10s 6ms/step - loss: 0.0201 - acc: 0.9937\n",
      "1875/1875 [==============================] - 10s 5ms/step - loss: 0.0224 - acc: 0.9924\n",
      "1875/1875 [==============================] - 10s 5ms/step - loss: 0.0448 - acc: 0.9847\n",
      "1875/1875 [==============================] - 10s 6ms/step - loss: 0.0204 - acc: 0.9927\n",
      "1875/1875 [==============================] - 10s 5ms/step - loss: 0.0244 - acc: 0.9916\n",
      "1875/1875 [==============================] - 10s 5ms/step - loss: 0.0389 - acc: 0.9859\n",
      "1875/1875 [==============================] - 10s 5ms/step - loss: 0.0305 - acc: 0.9892\n",
      "1875/1875 [==============================] - 10s 5ms/step - loss: 0.0203 - acc: 0.9933\n",
      "1875/1875 [==============================] - 10s 6ms/step - loss: 0.0211 - acc: 0.9926\n",
      "1875/1875 [==============================] - 10s 5ms/step - loss: 0.0427 - acc: 0.9854\n",
      "1875/1875 [==============================] - 10s 5ms/step - loss: 0.0201 - acc: 0.9930\n",
      "1875/1875 [==============================] - 10s 5ms/step - loss: 0.0237 - acc: 0.9919\n",
      "1875/1875 [==============================] - 10s 5ms/step - loss: 0.0371 - acc: 0.9871\n",
      "1875/1875 [==============================] - 10s 5ms/step - loss: 0.0284 - acc: 0.9897\n",
      "1875/1875 [==============================] - 10s 5ms/step - loss: 0.0186 - acc: 0.9938\n",
      "1875/1875 [==============================] - 10s 5ms/step - loss: 0.0215 - acc: 0.9930\n",
      "1875/1875 [==============================] - 10s 5ms/step - loss: 0.0419 - acc: 0.9856\n",
      "1875/1875 [==============================] - 10s 5ms/step - loss: 0.0209 - acc: 0.9931\n",
      "1875/1875 [==============================] - 10s 5ms/step - loss: 0.0215 - acc: 0.9926\n",
      "1875/1875 [==============================] - 10s 5ms/step - loss: 0.0360 - acc: 0.9873\n",
      "1875/1875 [==============================] - 10s 5ms/step - loss: 0.0269 - acc: 0.9903\n",
      "1875/1875 [==============================] - 10s 5ms/step - loss: 0.0185 - acc: 0.9941\n",
      "1875/1875 [==============================] - 10s 5ms/step - loss: 0.0191 - acc: 0.9935\n",
      "1875/1875 [==============================] - 10s 5ms/step - loss: 0.0406 - acc: 0.9862\n",
      "1875/1875 [==============================] - 10s 5ms/step - loss: 0.0195 - acc: 0.9932\n",
      "1875/1875 [==============================] - 10s 5ms/step - loss: 0.0212 - acc: 0.9931\n",
      "1875/1875 [==============================] - 10s 5ms/step - loss: 0.0360 - acc: 0.9874\n",
      "1875/1875 [==============================] - 10s 5ms/step - loss: 0.0278 - acc: 0.9903\n",
      "1875/1875 [==============================] - 10s 5ms/step - loss: 0.0166 - acc: 0.994466 - acc: 0.9\n",
      "1875/1875 [==============================] - 10s 5ms/step - loss: 0.0193 - acc: 0.9937\n",
      "1875/1875 [==============================] - 10s 5ms/step - loss: 0.0399 - acc: 0.9857\n",
      "1875/1875 [==============================] - 10s 5ms/step - loss: 0.0186 - acc: 0.9935\n",
      "1875/1875 [==============================] - 10s 5ms/step - loss: 0.0217 - acc: 0.9924\n",
      "1875/1875 [==============================] - 10s 5ms/step - loss: 0.0350 - acc: 0.9879\n",
      "1875/1875 [==============================] - 10s 5ms/step - loss: 0.0263 - acc: 0.9907\n",
      "1875/1875 [==============================] - 10s 5ms/step - loss: 0.0143 - acc: 0.9955\n",
      "1875/1875 [==============================] - 10s 5ms/step - loss: 0.0210 - acc: 0.9930\n",
      "1875/1875 [==============================] - 10s 5ms/step - loss: 0.0388 - acc: 0.9869\n",
      "1875/1875 [==============================] - 10s 5ms/step - loss: 0.0182 - acc: 0.9935\n",
      "1875/1875 [==============================] - 10s 5ms/step - loss: 0.0215 - acc: 0.9930\n",
      "1875/1875 [==============================] - 10s 5ms/step - loss: 0.0344 - acc: 0.9882\n",
      "1875/1875 [==============================] - 10s 5ms/step - loss: 0.0261 - acc: 0.9905\n",
      "1875/1875 [==============================] - 10s 5ms/step - loss: 0.0144 - acc: 0.9953\n",
      "1875/1875 [==============================] - 10s 5ms/step - loss: 0.0176 - acc: 0.9941\n",
      "1875/1875 [==============================] - 10s 6ms/step - loss: 0.0389 - acc: 0.9865\n",
      "1875/1875 [==============================] - 10s 6ms/step - loss: 0.0177 - acc: 0.9936\n",
      "1875/1875 [==============================] - 10s 5ms/step - loss: 0.0198 - acc: 0.9932\n",
      "1875/1875 [==============================] - 10s 6ms/step - loss: 0.0327 - acc: 0.9888\n",
      "1875/1875 [==============================] - 10s 5ms/step - loss: 0.0253 - acc: 0.9912\n",
      "1875/1875 [==============================] - 10s 6ms/step - loss: 0.0136 - acc: 0.9956\n",
      "1875/1875 [==============================] - 10s 5ms/step - loss: 0.0179 - acc: 0.9939\n",
      "1875/1875 [==============================] - 10s 6ms/step - loss: 0.0403 - acc: 0.9863\n",
      "1875/1875 [==============================] - 10s 5ms/step - loss: 0.0176 - acc: 0.9938\n",
      "1875/1875 [==============================] - 10s 5ms/step - loss: 0.0184 - acc: 0.9936\n",
      "1875/1875 [==============================] - 10s 5ms/step - loss: 0.0345 - acc: 0.9880\n",
      "1875/1875 [==============================] - 10s 6ms/step - loss: 0.0239 - acc: 0.9915\n",
      "1875/1875 [==============================] - 10s 5ms/step - loss: 0.0149 - acc: 0.9955\n",
      "1875/1875 [==============================] - 10s 5ms/step - loss: 0.0169 - acc: 0.9944\n",
      "1875/1875 [==============================] - 10s 5ms/step - loss: 0.0372 - acc: 0.9873\n",
      "1875/1875 [==============================] - 10s 5ms/step - loss: 0.0184 - acc: 0.9936\n",
      "1875/1875 [==============================] - 10s 5ms/step - loss: 0.0187 - acc: 0.9932\n",
      "1875/1875 [==============================] - 10s 5ms/step - loss: 0.0339 - acc: 0.9882\n",
      "1875/1875 [==============================] - 10s 5ms/step - loss: 0.0247 - acc: 0.9915\n",
      "1875/1875 [==============================] - 10s 5ms/step - loss: 0.0138 - acc: 0.9956\n",
      "1875/1875 [==============================] - 10s 5ms/step - loss: 0.0188 - acc: 0.9937\n",
      "1875/1875 [==============================] - 10s 5ms/step - loss: 0.0383 - acc: 0.9869\n",
      "1875/1875 [==============================] - 10s 5ms/step - loss: 0.0170 - acc: 0.9944\n",
      "1875/1875 [==============================] - 10s 5ms/step - loss: 0.0189 - acc: 0.9936\n",
      "1875/1875 [==============================] - 10s 5ms/step - loss: 0.0328 - acc: 0.9885\n",
      "1875/1875 [==============================] - 10s 5ms/step - loss: 0.0253 - acc: 0.9909\n",
      "1875/1875 [==============================] - 10s 5ms/step - loss: 0.0140 - acc: 0.9958\n",
      "1875/1875 [==============================] - 10s 5ms/step - loss: 0.0171 - acc: 0.9944\n",
      "1875/1875 [==============================] - 10s 5ms/step - loss: 0.0386 - acc: 0.9871\n",
      "1875/1875 [==============================] - 10s 5ms/step - loss: 0.0167 - acc: 0.9941\n",
      "1875/1875 [==============================] - 10s 5ms/step - loss: 0.0197 - acc: 0.9932\n",
      "1875/1875 [==============================] - 10s 5ms/step - loss: 0.0321 - acc: 0.9886\n",
      "1875/1875 [==============================] - 10s 5ms/step - loss: 0.0225 - acc: 0.9918\n",
      "1875/1875 [==============================] - 10s 5ms/step - loss: 0.0136 - acc: 0.9958\n",
      "1875/1875 [==============================] - 10s 5ms/step - loss: 0.0177 - acc: 0.9938\n",
      "1875/1875 [==============================] - 10s 5ms/step - loss: 0.0382 - acc: 0.9867\n",
      "1875/1875 [==============================] - 10s 5ms/step - loss: 0.0146 - acc: 0.9948\n",
      "1875/1875 [==============================] - 10s 5ms/step - loss: 0.0204 - acc: 0.9932\n",
      "1875/1875 [==============================] - 9s 5ms/step - loss: 0.0316 - acc: 0.9886\n",
      "1875/1875 [==============================] - 10s 5ms/step - loss: 0.0224 - acc: 0.9919\n",
      "1875/1875 [==============================] - 10s 5ms/step - loss: 0.0138 - acc: 0.9960\n",
      "1875/1875 [==============================] - 10s 5ms/step - loss: 0.0172 - acc: 0.9944\n",
      "1875/1875 [==============================] - 10s 5ms/step - loss: 0.0372 - acc: 0.987371 - acc: 0.9\n",
      "1875/1875 [==============================] - 10s 5ms/step - loss: 0.0166 - acc: 0.9942\n",
      "1875/1875 [==============================] - 10s 5ms/step - loss: 0.0185 - acc: 0.9933\n",
      "1875/1875 [==============================] - 10s 5ms/step - loss: 0.0316 - acc: 0.9886\n",
      "1875/1875 [==============================] - 10s 5ms/step - loss: 0.0232 - acc: 0.9919\n",
      "1875/1875 [==============================] - 10s 5ms/step - loss: 0.0108 - acc: 0.9969\n",
      "1875/1875 [==============================] - 10s 6ms/step - loss: 0.0193 - acc: 0.9940\n",
      "1875/1875 [==============================] - 10s 6ms/step - loss: 0.0380 - acc: 0.9875\n",
      "1875/1875 [==============================] - 10s 6ms/step - loss: 0.0148 - acc: 0.9948\n",
      "1875/1875 [==============================] - 10s 5ms/step - loss: 0.0172 - acc: 0.9940\n",
      "1875/1875 [==============================] - 10s 5ms/step - loss: 0.0300 - acc: 0.9894\n",
      "1875/1875 [==============================] - 10s 5ms/step - loss: 0.0234 - acc: 0.9915\n",
      "1875/1875 [==============================] - 10s 5ms/step - loss: 0.0127 - acc: 0.9960\n",
      "1875/1875 [==============================] - 10s 5ms/step - loss: 0.0167 - acc: 0.9946\n",
      "1875/1875 [==============================] - 10s 6ms/step - loss: 0.0362 - acc: 0.9875\n",
      "1875/1875 [==============================] - 10s 5ms/step - loss: 0.0166 - acc: 0.9943\n",
      "1875/1875 [==============================] - 10s 6ms/step - loss: 0.0173 - acc: 0.9944\n",
      "1875/1875 [==============================] - 10s 5ms/step - loss: 0.0299 - acc: 0.9892\n",
      "1875/1875 [==============================] - 10s 5ms/step - loss: 0.0228 - acc: 0.9919\n",
      "1875/1875 [==============================] - 10s 5ms/step - loss: 0.0137 - acc: 0.9961\n",
      "1875/1875 [==============================] - 10s 6ms/step - loss: 0.0176 - acc: 0.9941\n",
      "1875/1875 [==============================] - 10s 6ms/step - loss: 0.0376 - acc: 0.9872\n",
      "1875/1875 [==============================] - 10s 6ms/step - loss: 0.0150 - acc: 0.9945\n",
      "1875/1875 [==============================] - 10s 6ms/step - loss: 0.0165 - acc: 0.9937\n",
      "1875/1875 [==============================] - 10s 6ms/step - loss: 0.0304 - acc: 0.9897\n",
      "1875/1875 [==============================] - 10s 6ms/step - loss: 0.0222 - acc: 0.9921\n",
      "1875/1875 [==============================] - 10s 6ms/step - loss: 0.0138 - acc: 0.9961\n",
      "1875/1875 [==============================] - 10s 5ms/step - loss: 0.0174 - acc: 0.9943\n",
      "1875/1875 [==============================] - 10s 6ms/step - loss: 0.0376 - acc: 0.9872\n",
      "1875/1875 [==============================] - 10s 6ms/step - loss: 0.0154 - acc: 0.9946\n",
      "1875/1875 [==============================] - 10s 6ms/step - loss: 0.0180 - acc: 0.9938\n",
      "1875/1875 [==============================] - 10s 6ms/step - loss: 0.0300 - acc: 0.9898\n",
      "1875/1875 [==============================] - 10s 5ms/step - loss: 0.0221 - acc: 0.9924\n",
      "1875/1875 [==============================] - 10s 6ms/step - loss: 0.0124 - acc: 0.9966\n",
      "1875/1875 [==============================] - 10s 6ms/step - loss: 0.0176 - acc: 0.9943\n",
      "1875/1875 [==============================] - 10s 5ms/step - loss: 0.0358 - acc: 0.9875\n",
      "1875/1875 [==============================] - 10s 5ms/step - loss: 0.0158 - acc: 0.9948\n",
      "1875/1875 [==============================] - 10s 5ms/step - loss: 0.0167 - acc: 0.9942\n",
      "1875/1875 [==============================] - 10s 5ms/step - loss: 0.0292 - acc: 0.9901\n",
      "1875/1875 [==============================] - 10s 5ms/step - loss: 0.0219 - acc: 0.9920\n",
      "1875/1875 [==============================] - 10s 5ms/step - loss: 0.0142 - acc: 0.9960\n",
      "1875/1875 [==============================] - 10s 5ms/step - loss: 0.0173 - acc: 0.9947\n",
      "1875/1875 [==============================] - 10s 5ms/step - loss: 0.0354 - acc: 0.9875\n",
      "1875/1875 [==============================] - 10s 5ms/step - loss: 0.0158 - acc: 0.9946\n",
      "1875/1875 [==============================] - 10s 5ms/step - loss: 0.0160 - acc: 0.9944\n",
      "1875/1875 [==============================] - 10s 5ms/step - loss: 0.0274 - acc: 0.9906\n",
      "1875/1875 [==============================] - 10s 5ms/step - loss: 0.0222 - acc: 0.9920\n",
      "1875/1875 [==============================] - 10s 5ms/step - loss: 0.0140 - acc: 0.9961\n",
      "1875/1875 [==============================] - 10s 5ms/step - loss: 0.0164 - acc: 0.9947\n",
      "1875/1875 [==============================] - 10s 5ms/step - loss: 0.0352 - acc: 0.9874\n",
      "1875/1875 [==============================] - 10s 5ms/step - loss: 0.0172 - acc: 0.9941\n"
     ]
    },
    {
     "name": "stdout",
     "output_type": "stream",
     "text": [
      "1875/1875 [==============================] - 10s 5ms/step - loss: 0.0164 - acc: 0.9943\n",
      "1875/1875 [==============================] - 10s 5ms/step - loss: 0.0269 - acc: 0.9906\n",
      "1875/1875 [==============================] - 10s 5ms/step - loss: 0.0211 - acc: 0.9929\n",
      "1875/1875 [==============================] - 10s 5ms/step - loss: 0.0105 - acc: 0.9968\n",
      "1875/1875 [==============================] - 10s 5ms/step - loss: 0.0157 - acc: 0.9948\n",
      "1875/1875 [==============================] - 10s 5ms/step - loss: 0.0364 - acc: 0.9882\n",
      "1875/1875 [==============================] - 10s 5ms/step - loss: 0.0149 - acc: 0.9949\n",
      "1875/1875 [==============================] - 10s 5ms/step - loss: 0.0157 - acc: 0.9944\n",
      "1875/1875 [==============================] - 10s 5ms/step - loss: 0.0269 - acc: 0.9906\n",
      "1875/1875 [==============================] - 10s 5ms/step - loss: 0.0214 - acc: 0.9928\n",
      "1875/1875 [==============================] - 10s 5ms/step - loss: 0.0095 - acc: 0.9973\n",
      "1875/1875 [==============================] - 10s 5ms/step - loss: 0.0157 - acc: 0.9950\n",
      "1875/1875 [==============================] - 10s 5ms/step - loss: 0.0364 - acc: 0.9876\n",
      "1875/1875 [==============================] - 10s 5ms/step - loss: 0.0150 - acc: 0.9944\n",
      "1875/1875 [==============================] - 10s 5ms/step - loss: 0.0158 - acc: 0.9948\n",
      "1875/1875 [==============================] - 10s 5ms/step - loss: 0.0296 - acc: 0.9897\n",
      "1875/1875 [==============================] - 10s 5ms/step - loss: 0.0209 - acc: 0.9926\n",
      "1875/1875 [==============================] - 10s 5ms/step - loss: 0.0115 - acc: 0.9968\n",
      "1875/1875 [==============================] - 10s 5ms/step - loss: 0.0178 - acc: 0.9948\n",
      "1875/1875 [==============================] - 10s 5ms/step - loss: 0.0353 - acc: 0.9880\n",
      "1875/1875 [==============================] - 10s 6ms/step - loss: 0.0157 - acc: 0.9947\n",
      "1875/1875 [==============================] - 10s 5ms/step - loss: 0.0155 - acc: 0.9946\n",
      "1875/1875 [==============================] - 10s 5ms/step - loss: 0.0269 - acc: 0.9905\n",
      "1875/1875 [==============================] - 10s 5ms/step - loss: 0.0213 - acc: 0.9923\n",
      "1875/1875 [==============================] - 10s 5ms/step - loss: 0.0135 - acc: 0.9964\n",
      "1875/1875 [==============================] - 10s 5ms/step - loss: 0.0149 - acc: 0.9950\n",
      "1875/1875 [==============================] - 10s 5ms/step - loss: 0.0354 - acc: 0.9881\n",
      "1875/1875 [==============================] - 10s 5ms/step - loss: 0.0153 - acc: 0.9947\n",
      "1875/1875 [==============================] - 10s 6ms/step - loss: 0.0134 - acc: 0.9953\n",
      "1875/1875 [==============================] - 10s 6ms/step - loss: 0.0240 - acc: 0.9916\n",
      "1875/1875 [==============================] - 10s 5ms/step - loss: 0.0212 - acc: 0.9926\n",
      "1875/1875 [==============================] - 10s 5ms/step - loss: 0.0113 - acc: 0.9971\n",
      "1875/1875 [==============================] - 10s 5ms/step - loss: 0.0170 - acc: 0.9945\n",
      "1875/1875 [==============================] - 10s 6ms/step - loss: 0.0333 - acc: 0.9887\n",
      "1875/1875 [==============================] - 10s 5ms/step - loss: 0.0149 - acc: 0.9950\n",
      "1875/1875 [==============================] - 10s 6ms/step - loss: 0.0176 - acc: 0.9942\n",
      "1875/1875 [==============================] - 10s 5ms/step - loss: 0.0264 - acc: 0.9910\n",
      "1875/1875 [==============================] - 10s 5ms/step - loss: 0.0199 - acc: 0.9929\n",
      "1875/1875 [==============================] - 10s 6ms/step - loss: 0.0130 - acc: 0.9966\n",
      "1875/1875 [==============================] - 10s 6ms/step - loss: 0.0152 - acc: 0.9948\n",
      "1875/1875 [==============================] - 10s 5ms/step - loss: 0.0337 - acc: 0.9884\n",
      "1875/1875 [==============================] - 10s 5ms/step - loss: 0.0142 - acc: 0.9953\n",
      "1875/1875 [==============================] - 10s 5ms/step - loss: 0.0176 - acc: 0.9943\n",
      "1875/1875 [==============================] - 10s 6ms/step - loss: 0.0273 - acc: 0.9906\n",
      "1875/1875 [==============================] - 10s 5ms/step - loss: 0.0203 - acc: 0.9926\n",
      "1875/1875 [==============================] - 10s 5ms/step - loss: 0.0118 - acc: 0.9967\n",
      "1875/1875 [==============================] - 10s 5ms/step - loss: 0.0179 - acc: 0.994679 - ac\n",
      "1875/1875 [==============================] - 10s 5ms/step - loss: 0.0332 - acc: 0.9884\n",
      "1875/1875 [==============================] - 10s 5ms/step - loss: 0.0154 - acc: 0.9943\n",
      "1875/1875 [==============================] - 10s 5ms/step - loss: 0.0147 - acc: 0.9951\n",
      "1875/1875 [==============================] - 10s 5ms/step - loss: 0.0271 - acc: 0.9906\n",
      "1875/1875 [==============================] - 10s 5ms/step - loss: 0.0181 - acc: 0.9934\n",
      "1875/1875 [==============================] - 10s 5ms/step - loss: 0.0133 - acc: 0.9965\n",
      "1875/1875 [==============================] - 10s 5ms/step - loss: 0.0177 - acc: 0.9946\n",
      "1875/1875 [==============================] - 10s 5ms/step - loss: 0.0349 - acc: 0.9887\n",
      "1875/1875 [==============================] - 10s 5ms/step - loss: 0.0159 - acc: 0.9946\n",
      "1875/1875 [==============================] - 10s 5ms/step - loss: 0.0165 - acc: 0.9944\n",
      "1875/1875 [==============================] - 10s 5ms/step - loss: 0.0254 - acc: 0.9912\n",
      "1875/1875 [==============================] - 10s 5ms/step - loss: 0.0190 - acc: 0.9931\n",
      "1875/1875 [==============================] - 10s 5ms/step - loss: 0.0111 - acc: 0.9969\n",
      "1875/1875 [==============================] - 10s 5ms/step - loss: 0.0161 - acc: 0.9949\n",
      "1875/1875 [==============================] - 10s 6ms/step - loss: 0.0350 - acc: 0.9882\n",
      "1875/1875 [==============================] - 10s 5ms/step - loss: 0.0151 - acc: 0.9947\n",
      "1875/1875 [==============================] - 10s 5ms/step - loss: 0.0174 - acc: 0.9947\n",
      "1875/1875 [==============================] - 10s 5ms/step - loss: 0.0248 - acc: 0.9911\n",
      "1875/1875 [==============================] - 10s 5ms/step - loss: 0.0199 - acc: 0.9929\n",
      "1875/1875 [==============================] - 10s 5ms/step - loss: 0.0115 - acc: 0.9972\n",
      "1875/1875 [==============================] - 10s 5ms/step - loss: 0.0155 - acc: 0.9947\n",
      "1875/1875 [==============================] - 10s 5ms/step - loss: 0.0344 - acc: 0.9883\n",
      "1875/1875 [==============================] - 10s 5ms/step - loss: 0.0144 - acc: 0.9950\n",
      "1875/1875 [==============================] - 10s 5ms/step - loss: 0.0152 - acc: 0.9949\n",
      "1875/1875 [==============================] - 10s 5ms/step - loss: 0.0237 - acc: 0.9919\n",
      "1875/1875 [==============================] - 10s 5ms/step - loss: 0.0193 - acc: 0.9933\n",
      "1875/1875 [==============================] - 10s 5ms/step - loss: 0.0110 - acc: 0.9972\n",
      "1875/1875 [==============================] - 10s 5ms/step - loss: 0.0166 - acc: 0.9950\n",
      "1875/1875 [==============================] - 9s 5ms/step - loss: 0.0346 - acc: 0.9883\n",
      "1875/1875 [==============================] - 10s 5ms/step - loss: 0.0146 - acc: 0.9949\n",
      "1875/1875 [==============================] - 10s 5ms/step - loss: 0.0153 - acc: 0.9947\n",
      "1875/1875 [==============================] - 10s 5ms/step - loss: 0.0241 - acc: 0.9916\n",
      "1875/1875 [==============================] - 10s 5ms/step - loss: 0.0182 - acc: 0.9936\n",
      "1875/1875 [==============================] - 10s 5ms/step - loss: 0.0113 - acc: 0.9969\n",
      "1875/1875 [==============================] - 10s 5ms/step - loss: 0.0160 - acc: 0.9954\n",
      "1875/1875 [==============================] - 10s 5ms/step - loss: 0.0335 - acc: 0.9889\n",
      "1875/1875 [==============================] - 10s 5ms/step - loss: 0.0138 - acc: 0.9950\n",
      "1875/1875 [==============================] - 10s 5ms/step - loss: 0.0142 - acc: 0.9950\n",
      "1875/1875 [==============================] - 9s 5ms/step - loss: 0.0255 - acc: 0.9915\n",
      "1875/1875 [==============================] - 10s 5ms/step - loss: 0.0187 - acc: 0.9931\n",
      "1875/1875 [==============================] - 10s 5ms/step - loss: 0.0115 - acc: 0.9970\n",
      "1875/1875 [==============================] - 10s 5ms/step - loss: 0.0163 - acc: 0.9951\n",
      "1875/1875 [==============================] - 10s 5ms/step - loss: 0.0346 - acc: 0.9887\n",
      "1875/1875 [==============================] - 10s 5ms/step - loss: 0.0136 - acc: 0.9951\n",
      "1875/1875 [==============================] - 10s 5ms/step - loss: 0.0152 - acc: 0.9947\n",
      "1875/1875 [==============================] - 10s 5ms/step - loss: 0.0255 - acc: 0.9914\n",
      "1875/1875 [==============================] - 10s 5ms/step - loss: 0.0193 - acc: 0.9934\n",
      "1875/1875 [==============================] - 10s 5ms/step - loss: 0.0089 - acc: 0.9976\n",
      "1875/1875 [==============================] - 10s 5ms/step - loss: 0.0154 - acc: 0.9955\n",
      "1875/1875 [==============================] - 10s 5ms/step - loss: 0.0350 - acc: 0.9884\n",
      "1875/1875 [==============================] - 10s 5ms/step - loss: 0.0144 - acc: 0.9950\n",
      "1875/1875 [==============================] - 10s 5ms/step - loss: 0.0175 - acc: 0.9942\n",
      "1875/1875 [==============================] - 10s 5ms/step - loss: 0.0246 - acc: 0.9920\n",
      "1875/1875 [==============================] - 10s 5ms/step - loss: 0.0192 - acc: 0.9930\n",
      "1875/1875 [==============================] - 10s 5ms/step - loss: 0.0118 - acc: 0.9972\n",
      "1875/1875 [==============================] - 10s 5ms/step - loss: 0.0160 - acc: 0.9950\n",
      "1875/1875 [==============================] - 10s 5ms/step - loss: 0.0334 - acc: 0.9891\n",
      "1875/1875 [==============================] - 10s 5ms/step - loss: 0.0154 - acc: 0.9945\n",
      "1875/1875 [==============================] - 10s 5ms/step - loss: 0.0181 - acc: 0.9940\n",
      "1875/1875 [==============================] - 10s 5ms/step - loss: 0.0243 - acc: 0.9917\n",
      "1875/1875 [==============================] - 10s 5ms/step - loss: 0.0195 - acc: 0.9929\n",
      "1875/1875 [==============================] - 10s 5ms/step - loss: 0.0100 - acc: 0.9973\n",
      "1875/1875 [==============================] - 10s 5ms/step - loss: 0.0191 - acc: 0.9943\n",
      "1875/1875 [==============================] - 10s 5ms/step - loss: 0.0361 - acc: 0.9876\n",
      "1875/1875 [==============================] - 10s 5ms/step - loss: 0.0157 - acc: 0.9944\n",
      "1875/1875 [==============================] - 10s 5ms/step - loss: 0.0132 - acc: 0.9955\n",
      "1875/1875 [==============================] - 10s 5ms/step - loss: 0.0250 - acc: 0.9915\n",
      "1875/1875 [==============================] - 10s 5ms/step - loss: 0.0196 - acc: 0.9932\n",
      "1875/1875 [==============================] - 10s 5ms/step - loss: 0.0101 - acc: 0.997303 - acc:  - 10s 5ms/step - lo\n",
      "1875/1875 [==============================] - 10s 5ms/step - loss: 0.0183 - acc: 0.9941\n",
      "1875/1875 [==============================] - 10s 5ms/step - loss: 0.0327 - acc: 0.9889\n",
      "1875/1875 [==============================] - 10s 5ms/step - loss: 0.0144 - acc: 0.9950\n",
      "1875/1875 [==============================] - 10s 5ms/step - loss: 0.0145 - acc: 0.9950\n",
      "1875/1875 [==============================] - 10s 5ms/step - loss: 0.0253 - acc: 0.9917\n",
      "1875/1875 [==============================] - 10s 5ms/step - loss: 0.0203 - acc: 0.9927\n",
      "1875/1875 [==============================] - 10s 5ms/step - loss: 0.0100 - acc: 0.9972\n",
      "1875/1875 [==============================] - 10s 5ms/step - loss: 0.0149 - acc: 0.9953\n",
      "1875/1875 [==============================] - 10s 5ms/step - loss: 0.0318 - acc: 0.9890\n",
      "1875/1875 [==============================] - 10s 5ms/step - loss: 0.0156 - acc: 0.9947\n",
      "1875/1875 [==============================] - 10s 5ms/step - loss: 0.0142 - acc: 0.9952\n",
      "1875/1875 [==============================] - 10s 5ms/step - loss: 0.0244 - acc: 0.9916\n",
      "1875/1875 [==============================] - 9s 5ms/step - loss: 0.0194 - acc: 0.9935\n",
      "1875/1875 [==============================] - 10s 5ms/step - loss: 0.0096 - acc: 0.9975\n",
      "1875/1875 [==============================] - 10s 5ms/step - loss: 0.0183 - acc: 0.9946\n",
      "1875/1875 [==============================] - 10s 5ms/step - loss: 0.0327 - acc: 0.9886\n",
      "1875/1875 [==============================] - 10s 5ms/step - loss: 0.0139 - acc: 0.9949\n",
      "1875/1875 [==============================] - 10s 5ms/step - loss: 0.0162 - acc: 0.9944\n",
      "1875/1875 [==============================] - 10s 5ms/step - loss: 0.0229 - acc: 0.9923\n",
      "1875/1875 [==============================] - 10s 5ms/step - loss: 0.0176 - acc: 0.9934\n",
      "1875/1875 [==============================] - 10s 5ms/step - loss: 0.0128 - acc: 0.9970\n",
      "1875/1875 [==============================] - 9s 5ms/step - loss: 0.0160 - acc: 0.9951\n",
      "1875/1875 [==============================] - 10s 5ms/step - loss: 0.0346 - acc: 0.9888\n",
      "1875/1875 [==============================] - 10s 5ms/step - loss: 0.0144 - acc: 0.9948\n",
      "1875/1875 [==============================] - 10s 5ms/step - loss: 0.0149 - acc: 0.9948\n",
      "1875/1875 [==============================] - 10s 5ms/step - loss: 0.0242 - acc: 0.9918\n",
      "1875/1875 [==============================] - 10s 5ms/step - loss: 0.0187 - acc: 0.9935\n",
      "1875/1875 [==============================] - 10s 5ms/step - loss: 0.0102 - acc: 0.9972\n",
      "1875/1875 [==============================] - 10s 5ms/step - loss: 0.0164 - acc: 0.9952\n",
      "1875/1875 [==============================] - 10s 5ms/step - loss: 0.0346 - acc: 0.9884\n",
      "1875/1875 [==============================] - 10s 5ms/step - loss: 0.0136 - acc: 0.9950\n",
      "1875/1875 [==============================] - 10s 5ms/step - loss: 0.0176 - acc: 0.9944\n",
      "1875/1875 [==============================] - 10s 5ms/step - loss: 0.0256 - acc: 0.9913\n",
      "1875/1875 [==============================] - 10s 5ms/step - loss: 0.0186 - acc: 0.9930\n",
      "1875/1875 [==============================] - 10s 5ms/step - loss: 0.0111 - acc: 0.9971\n",
      "1875/1875 [==============================] - 10s 5ms/step - loss: 0.0149 - acc: 0.9955\n",
      "1875/1875 [==============================] - 10s 5ms/step - loss: 0.0332 - acc: 0.9890\n",
      "1875/1875 [==============================] - 10s 5ms/step - loss: 0.0146 - acc: 0.9951\n",
      "1875/1875 [==============================] - 10s 5ms/step - loss: 0.0153 - acc: 0.9952\n",
      "1875/1875 [==============================] - 10s 5ms/step - loss: 0.0248 - acc: 0.9915\n",
      "1875/1875 [==============================] - 10s 5ms/step - loss: 0.0173 - acc: 0.9937\n",
      "1875/1875 [==============================] - 10s 5ms/step - loss: 0.0125 - acc: 0.9970\n",
      "1875/1875 [==============================] - 10s 5ms/step - loss: 0.0150 - acc: 0.9955\n",
      "1875/1875 [==============================] - 10s 5ms/step - loss: 0.0328 - acc: 0.9892\n",
      "1875/1875 [==============================] - 10s 5ms/step - loss: 0.0144 - acc: 0.9948\n",
      "1875/1875 [==============================] - 10s 5ms/step - loss: 0.0152 - acc: 0.9949\n",
      "1875/1875 [==============================] - 10s 5ms/step - loss: 0.0217 - acc: 0.9922\n",
      "1875/1875 [==============================] - 9s 5ms/step - loss: 0.0187 - acc: 0.9935\n",
      "1875/1875 [==============================] - 10s 5ms/step - loss: 0.0084 - acc: 0.9978\n",
      "1875/1875 [==============================] - 10s 5ms/step - loss: 0.0173 - acc: 0.9949\n",
      "1875/1875 [==============================] - 10s 5ms/step - loss: 0.0299 - acc: 0.9895\n",
      "1875/1875 [==============================] - 10s 5ms/step - loss: 0.0134 - acc: 0.9952\n",
      "1875/1875 [==============================] - 10s 5ms/step - loss: 0.0150 - acc: 0.9949\n",
      "1875/1875 [==============================] - 10s 5ms/step - loss: 0.0252 - acc: 0.9914\n",
      "1875/1875 [==============================] - 10s 5ms/step - loss: 0.0181 - acc: 0.9937\n",
      "1875/1875 [==============================] - 10s 5ms/step - loss: 0.0103 - acc: 0.9972\n",
      "1875/1875 [==============================] - 9s 5ms/step - loss: 0.0179 - acc: 0.9947\n",
      "1875/1875 [==============================] - 10s 5ms/step - loss: 0.0321 - acc: 0.9891\n",
      "1875/1875 [==============================] - 10s 5ms/step - loss: 0.0151 - acc: 0.9948\n",
      "1875/1875 [==============================] - 10s 5ms/step - loss: 0.0157 - acc: 0.9947\n",
      "1875/1875 [==============================] - 10s 5ms/step - loss: 0.0218 - acc: 0.9924\n",
      "1875/1875 [==============================] - 10s 5ms/step - loss: 0.0193 - acc: 0.9934\n",
      "1875/1875 [==============================] - 10s 5ms/step - loss: 0.0136 - acc: 0.9970\n",
      "1875/1875 [==============================] - 10s 5ms/step - loss: 0.0203 - acc: 0.9941\n",
      "1875/1875 [==============================] - 10s 5ms/step - loss: 0.0326 - acc: 0.9892\n",
      "1875/1875 [==============================] - 10s 5ms/step - loss: 0.0159 - acc: 0.9947\n",
      "1875/1875 [==============================] - 10s 5ms/step - loss: 0.0160 - acc: 0.9943\n",
      "1875/1875 [==============================] - 10s 5ms/step - loss: 0.0235 - acc: 0.9918\n",
      "1875/1875 [==============================] - 10s 5ms/step - loss: 0.0183 - acc: 0.9936\n",
      "1875/1875 [==============================] - 10s 5ms/step - loss: 0.0113 - acc: 0.9972\n"
     ]
    },
    {
     "name": "stdout",
     "output_type": "stream",
     "text": [
      "1875/1875 [==============================] - 10s 5ms/step - loss: 0.0163 - acc: 0.9951\n",
      "1875/1875 [==============================] - 10s 5ms/step - loss: 0.0316 - acc: 0.9895\n",
      "1875/1875 [==============================] - 10s 5ms/step - loss: 0.0137 - acc: 0.9952\n",
      "1875/1875 [==============================] - 10s 5ms/step - loss: 0.0158 - acc: 0.9949\n",
      "1875/1875 [==============================] - 10s 5ms/step - loss: 0.0237 - acc: 0.9919\n",
      "1875/1875 [==============================] - 10s 5ms/step - loss: 0.0187 - acc: 0.9934\n",
      "1875/1875 [==============================] - 10s 5ms/step - loss: 0.0111 - acc: 0.9970\n",
      "1875/1875 [==============================] - 10s 5ms/step - loss: 0.0172 - acc: 0.9952\n",
      "1875/1875 [==============================] - 10s 5ms/step - loss: 0.0331 - acc: 0.9890\n",
      "1875/1875 [==============================] - 10s 5ms/step - loss: 0.0159 - acc: 0.9945\n",
      "1875/1875 [==============================] - 9s 5ms/step - loss: 0.0163 - acc: 0.9944\n",
      "1875/1875 [==============================] - 10s 5ms/step - loss: 0.0257 - acc: 0.9913\n",
      "1875/1875 [==============================] - 10s 5ms/step - loss: 0.0190 - acc: 0.9933\n",
      "1875/1875 [==============================] - 10s 5ms/step - loss: 0.0117 - acc: 0.9970\n",
      "1875/1875 [==============================] - 10s 5ms/step - loss: 0.0118 - acc: 0.9962\n",
      "1875/1875 [==============================] - 10s 5ms/step - loss: 0.0350 - acc: 0.9883\n",
      "1875/1875 [==============================] - 10s 5ms/step - loss: 0.0143 - acc: 0.9951\n",
      "1875/1875 [==============================] - 10s 5ms/step - loss: 0.0131 - acc: 0.9955\n",
      "1875/1875 [==============================] - 10s 5ms/step - loss: 0.0234 - acc: 0.9916\n",
      "1875/1875 [==============================] - 10s 5ms/step - loss: 0.0170 - acc: 0.9941\n",
      "1875/1875 [==============================] - 10s 5ms/step - loss: 0.0130 - acc: 0.9970\n",
      "1875/1875 [==============================] - 10s 5ms/step - loss: 0.0149 - acc: 0.9957\n",
      "1875/1875 [==============================] - 10s 5ms/step - loss: 0.0302 - acc: 0.9895\n",
      "1875/1875 [==============================] - 10s 5ms/step - loss: 0.0152 - acc: 0.9948\n",
      "1875/1875 [==============================] - 10s 5ms/step - loss: 0.0153 - acc: 0.9949\n",
      "1875/1875 [==============================] - 10s 5ms/step - loss: 0.0219 - acc: 0.9925\n",
      "1875/1875 [==============================] - 10s 5ms/step - loss: 0.0192 - acc: 0.9932\n",
      "1875/1875 [==============================] - 10s 5ms/step - loss: 0.0124 - acc: 0.9972\n",
      "1875/1875 [==============================] - 10s 5ms/step - loss: 0.0183 - acc: 0.9949\n",
      "1875/1875 [==============================] - 10s 5ms/step - loss: 0.0337 - acc: 0.9886\n",
      "1875/1875 [==============================] - 10s 5ms/step - loss: 0.0158 - acc: 0.9948\n",
      "1875/1875 [==============================] - 10s 5ms/step - loss: 0.0138 - acc: 0.9954\n",
      "1875/1875 [==============================] - 10s 5ms/step - loss: 0.0231 - acc: 0.9921\n",
      "1875/1875 [==============================] - 10s 5ms/step - loss: 0.0188 - acc: 0.9934\n",
      "1875/1875 [==============================] - 10s 5ms/step - loss: 0.0118 - acc: 0.9969\n",
      "1875/1875 [==============================] - 10s 5ms/step - loss: 0.0163 - acc: 0.9951\n",
      "1875/1875 [==============================] - 10s 5ms/step - loss: 0.0303 - acc: 0.9896\n",
      "1875/1875 [==============================] - 10s 5ms/step - loss: 0.0138 - acc: 0.9951\n",
      "1875/1875 [==============================] - 10s 5ms/step - loss: 0.0139 - acc: 0.9955\n",
      "1875/1875 [==============================] - 10s 5ms/step - loss: 0.0223 - acc: 0.9921\n",
      "1875/1875 [==============================] - 10s 5ms/step - loss: 0.0173 - acc: 0.9937\n",
      "1875/1875 [==============================] - 10s 5ms/step - loss: 0.0103 - acc: 0.9974\n",
      "1875/1875 [==============================] - 10s 5ms/step - loss: 0.0148 - acc: 0.9952\n",
      "1875/1875 [==============================] - 10s 5ms/step - loss: 0.0303 - acc: 0.9898\n",
      "1875/1875 [==============================] - 10s 5ms/step - loss: 0.0162 - acc: 0.9947\n",
      "1875/1875 [==============================] - 10s 5ms/step - loss: 0.0173 - acc: 0.9944\n",
      "1875/1875 [==============================] - 10s 5ms/step - loss: 0.0232 - acc: 0.9919\n",
      "1875/1875 [==============================] - 10s 5ms/step - loss: 0.0165 - acc: 0.9943\n",
      "1875/1875 [==============================] - 10s 5ms/step - loss: 0.0093 - acc: 0.9976\n",
      "1875/1875 [==============================] - 10s 5ms/step - loss: 0.0166 - acc: 0.9952\n",
      "1875/1875 [==============================] - 10s 5ms/step - loss: 0.0313 - acc: 0.9897\n",
      "1875/1875 [==============================] - 10s 5ms/step - loss: 0.0139 - acc: 0.9949\n",
      "1875/1875 [==============================] - 10s 5ms/step - loss: 0.0164 - acc: 0.9945\n",
      "1875/1875 [==============================] - 10s 5ms/step - loss: 0.0224 - acc: 0.9924\n",
      "1875/1875 [==============================] - 10s 5ms/step - loss: 0.0176 - acc: 0.9938\n",
      "1875/1875 [==============================] - 10s 5ms/step - loss: 0.0132 - acc: 0.9970\n",
      "1875/1875 [==============================] - 10s 5ms/step - loss: 0.0150 - acc: 0.9955\n",
      "1875/1875 [==============================] - 10s 5ms/step - loss: 0.0321 - acc: 0.9894\n",
      "1875/1875 [==============================] - 10s 5ms/step - loss: 0.0136 - acc: 0.9955\n",
      "1875/1875 [==============================] - 10s 5ms/step - loss: 0.0173 - acc: 0.9946\n",
      "1875/1875 [==============================] - 10s 5ms/step - loss: 0.0238 - acc: 0.9922\n",
      "1875/1875 [==============================] - 10s 5ms/step - loss: 0.0174 - acc: 0.9938\n",
      "1875/1875 [==============================] - 10s 5ms/step - loss: 0.0102 - acc: 0.9973\n",
      "1875/1875 [==============================] - 10s 5ms/step - loss: 0.0152 - acc: 0.9956\n",
      "1875/1875 [==============================] - 10s 5ms/step - loss: 0.0347 - acc: 0.9888\n",
      "1875/1875 [==============================] - 10s 5ms/step - loss: 0.0128 - acc: 0.9957\n",
      "1875/1875 [==============================] - 10s 5ms/step - loss: 0.0139 - acc: 0.9956\n",
      "1875/1875 [==============================] - 10s 5ms/step - loss: 0.0228 - acc: 0.9922\n",
      "1875/1875 [==============================] - 10s 5ms/step - loss: 0.0178 - acc: 0.9938\n",
      "1875/1875 [==============================] - 10s 5ms/step - loss: 0.0099 - acc: 0.9975\n",
      "1875/1875 [==============================] - 10s 5ms/step - loss: 0.0159 - acc: 0.9953\n",
      "1875/1875 [==============================] - 10s 5ms/step - loss: 0.0312 - acc: 0.9894\n",
      "1875/1875 [==============================] - 10s 5ms/step - loss: 0.0129 - acc: 0.9954\n",
      "1875/1875 [==============================] - 10s 5ms/step - loss: 0.0160 - acc: 0.9948\n",
      "1875/1875 [==============================] - 10s 5ms/step - loss: 0.0212 - acc: 0.9930\n",
      "1875/1875 [==============================] - 10s 5ms/step - loss: 0.0157 - acc: 0.9946\n",
      "1875/1875 [==============================] - 9s 5ms/step - loss: 0.0117 - acc: 0.9974\n",
      "1875/1875 [==============================] - 10s 5ms/step - loss: 0.0165 - acc: 0.9954\n",
      "1875/1875 [==============================] - 10s 5ms/step - loss: 0.0307 - acc: 0.9897\n",
      "1875/1875 [==============================] - 10s 5ms/step - loss: 0.0146 - acc: 0.9952\n",
      "1875/1875 [==============================] - 10s 5ms/step - loss: 0.0136 - acc: 0.9956\n",
      "1875/1875 [==============================] - 10s 5ms/step - loss: 0.0220 - acc: 0.9928\n",
      "1875/1875 [==============================] - 10s 5ms/step - loss: 0.0196 - acc: 0.9933\n",
      "1875/1875 [==============================] - 9s 5ms/step - loss: 0.0109 - acc: 0.9976\n",
      "1875/1875 [==============================] - 10s 5ms/step - loss: 0.0150 - acc: 0.9952\n",
      "1875/1875 [==============================] - 10s 5ms/step - loss: 0.0320 - acc: 0.9893\n",
      "1875/1875 [==============================] - 10s 5ms/step - loss: 0.0133 - acc: 0.9956\n",
      "1875/1875 [==============================] - 10s 5ms/step - loss: 0.0147 - acc: 0.9952\n",
      "1875/1875 [==============================] - 10s 5ms/step - loss: 0.0235 - acc: 0.9920\n",
      "1875/1875 [==============================] - 10s 5ms/step - loss: 0.0172 - acc: 0.9941\n",
      "1875/1875 [==============================] - 10s 5ms/step - loss: 0.0106 - acc: 0.9977\n",
      "1875/1875 [==============================] - 10s 5ms/step - loss: 0.0153 - acc: 0.9951\n",
      "1875/1875 [==============================] - 10s 5ms/step - loss: 0.0321 - acc: 0.9892\n",
      "1875/1875 [==============================] - 10s 5ms/step - loss: 0.0131 - acc: 0.9953\n",
      "1875/1875 [==============================] - 10s 5ms/step - loss: 0.0160 - acc: 0.9950\n",
      "1875/1875 [==============================] - 10s 5ms/step - loss: 0.0237 - acc: 0.9919\n",
      "1875/1875 [==============================] - 10s 5ms/step - loss: 0.0188 - acc: 0.9936\n",
      "1875/1875 [==============================] - 10s 5ms/step - loss: 0.0098 - acc: 0.9976\n",
      "1875/1875 [==============================] - 10s 5ms/step - loss: 0.0150 - acc: 0.9955\n",
      "1875/1875 [==============================] - 10s 5ms/step - loss: 0.0329 - acc: 0.9892\n",
      "1875/1875 [==============================] - 10s 5ms/step - loss: 0.0141 - acc: 0.9953\n",
      "1875/1875 [==============================] - 10s 5ms/step - loss: 0.0150 - acc: 0.9954\n",
      "1875/1875 [==============================] - 10s 5ms/step - loss: 0.0239 - acc: 0.9921\n",
      "1875/1875 [==============================] - 10s 5ms/step - loss: 0.0176 - acc: 0.9937\n",
      "1875/1875 [==============================] - 10s 5ms/step - loss: 0.0083 - acc: 0.9976\n",
      "1875/1875 [==============================] - 10s 5ms/step - loss: 0.0145 - acc: 0.9956\n",
      "1875/1875 [==============================] - 10s 5ms/step - loss: 0.0315 - acc: 0.9901\n",
      "1875/1875 [==============================] - 10s 5ms/step - loss: 0.0141 - acc: 0.9954\n",
      "1875/1875 [==============================] - 10s 5ms/step - loss: 0.0138 - acc: 0.9958\n",
      "1875/1875 [==============================] - 10s 5ms/step - loss: 0.0218 - acc: 0.9925\n",
      "1875/1875 [==============================] - 10s 5ms/step - loss: 0.0183 - acc: 0.9938\n",
      "1875/1875 [==============================] - 10s 5ms/step - loss: 0.0099 - acc: 0.9976\n",
      "1875/1875 [==============================] - 10s 5ms/step - loss: 0.0180 - acc: 0.9948\n",
      "1875/1875 [==============================] - 10s 5ms/step - loss: 0.0309 - acc: 0.9897\n",
      "1875/1875 [==============================] - 10s 5ms/step - loss: 0.0133 - acc: 0.9955\n",
      "1875/1875 [==============================] - 10s 5ms/step - loss: 0.0152 - acc: 0.9952\n",
      "1875/1875 [==============================] - 10s 5ms/step - loss: 0.0236 - acc: 0.9922\n",
      "1875/1875 [==============================] - 10s 5ms/step - loss: 0.0205 - acc: 0.9931\n",
      "1875/1875 [==============================] - 10s 5ms/step - loss: 0.0102 - acc: 0.9977\n",
      "1875/1875 [==============================] - 10s 5ms/step - loss: 0.0160 - acc: 0.9952\n",
      "1875/1875 [==============================] - 10s 5ms/step - loss: 0.0338 - acc: 0.9891\n",
      "1875/1875 [==============================] - 10s 6ms/step - loss: 0.0138 - acc: 0.9951\n",
      "1875/1875 [==============================] - 10s 5ms/step - loss: 0.0138 - acc: 0.9956\n",
      "1875/1875 [==============================] - 10s 5ms/step - loss: 0.0237 - acc: 0.9922\n",
      "1875/1875 [==============================] - 10s 6ms/step - loss: 0.0182 - acc: 0.9939\n",
      "1875/1875 [==============================] - 10s 5ms/step - loss: 0.0116 - acc: 0.9974\n",
      "1875/1875 [==============================] - 10s 5ms/step - loss: 0.0140 - acc: 0.9959\n",
      "1875/1875 [==============================] - 10s 5ms/step - loss: 0.0323 - acc: 0.9893\n",
      "1875/1875 [==============================] - 10s 5ms/step - loss: 0.0143 - acc: 0.995044 \n",
      "1875/1875 [==============================] - 10s 5ms/step - loss: 0.0146 - acc: 0.9955\n",
      "1875/1875 [==============================] - 10s 5ms/step - loss: 0.0231 - acc: 0.9925\n",
      "1875/1875 [==============================] - 9s 5ms/step - loss: 0.0164 - acc: 0.9945\n",
      "1875/1875 [==============================] - 10s 5ms/step - loss: 0.0110 - acc: 0.9978\n",
      "1875/1875 [==============================] - 10s 5ms/step - loss: 0.0152 - acc: 0.9955\n",
      "1875/1875 [==============================] - 10s 5ms/step - loss: 0.0321 - acc: 0.9900\n",
      "1875/1875 [==============================] - 10s 5ms/step - loss: 0.0131 - acc: 0.9955\n",
      "1875/1875 [==============================] - 10s 5ms/step - loss: 0.0165 - acc: 0.9951\n",
      "1875/1875 [==============================] - 10s 5ms/step - loss: 0.0227 - acc: 0.9925\n",
      "1875/1875 [==============================] - 10s 5ms/step - loss: 0.0186 - acc: 0.9935\n",
      "1875/1875 [==============================] - 10s 5ms/step - loss: 0.0094 - acc: 0.9979\n",
      "1875/1875 [==============================] - 10s 5ms/step - loss: 0.0163 - acc: 0.9955\n",
      "1875/1875 [==============================] - 10s 5ms/step - loss: 0.0303 - acc: 0.9897\n",
      "1875/1875 [==============================] - 10s 5ms/step - loss: 0.0124 - acc: 0.9958\n",
      "1875/1875 [==============================] - 10s 5ms/step - loss: 0.0152 - acc: 0.9954\n",
      "1875/1875 [==============================] - 10s 5ms/step - loss: 0.0225 - acc: 0.9924\n",
      "1875/1875 [==============================] - 10s 5ms/step - loss: 0.0178 - acc: 0.9935\n",
      "1875/1875 [==============================] - 10s 5ms/step - loss: 0.0134 - acc: 0.9969\n",
      "1875/1875 [==============================] - 10s 5ms/step - loss: 0.0168 - acc: 0.9954\n",
      "1875/1875 [==============================] - 10s 5ms/step - loss: 0.0294 - acc: 0.9902\n",
      "1875/1875 [==============================] - 10s 5ms/step - loss: 0.0131 - acc: 0.9955\n",
      "1875/1875 [==============================] - 10s 5ms/step - loss: 0.0151 - acc: 0.9951\n",
      "1875/1875 [==============================] - 10s 5ms/step - loss: 0.0226 - acc: 0.9920\n",
      "1875/1875 [==============================] - 10s 5ms/step - loss: 0.0158 - acc: 0.9942\n",
      "1875/1875 [==============================] - 10s 5ms/step - loss: 0.0111 - acc: 0.9975\n",
      "1875/1875 [==============================] - 10s 5ms/step - loss: 0.0132 - acc: 0.9963\n",
      "1875/1875 [==============================] - 10s 5ms/step - loss: 0.0314 - acc: 0.9897\n",
      "1875/1875 [==============================] - 10s 5ms/step - loss: 0.0135 - acc: 0.9955\n",
      "1875/1875 [==============================] - 10s 5ms/step - loss: 0.0149 - acc: 0.9952\n",
      "1875/1875 [==============================] - 10s 5ms/step - loss: 0.0222 - acc: 0.9926\n",
      "1875/1875 [==============================] - 10s 5ms/step - loss: 0.0161 - acc: 0.9944\n",
      "1875/1875 [==============================] - 10s 5ms/step - loss: 0.0116 - acc: 0.9974\n",
      "1875/1875 [==============================] - 10s 5ms/step - loss: 0.0131 - acc: 0.9959\n",
      "1875/1875 [==============================] - 10s 5ms/step - loss: 0.0295 - acc: 0.9904\n",
      "1875/1875 [==============================] - 10s 5ms/step - loss: 0.0146 - acc: 0.9948\n",
      "1875/1875 [==============================] - 10s 5ms/step - loss: 0.0126 - acc: 0.9956\n",
      "1875/1875 [==============================] - 10s 5ms/step - loss: 0.0216 - acc: 0.9929\n",
      "1875/1875 [==============================] - 10s 5ms/step - loss: 0.0178 - acc: 0.9939\n",
      "1875/1875 [==============================] - 10s 5ms/step - loss: 0.0128 - acc: 0.9972\n",
      "1875/1875 [==============================] - 10s 5ms/step - loss: 0.0141 - acc: 0.9962\n",
      "1875/1875 [==============================] - 10s 5ms/step - loss: 0.0301 - acc: 0.9905\n",
      "1875/1875 [==============================] - 9s 5ms/step - loss: 0.0134 - acc: 0.9955\n",
      "1875/1875 [==============================] - 10s 5ms/step - loss: 0.0164 - acc: 0.9948\n",
      "1875/1875 [==============================] - 10s 5ms/step - loss: 0.0226 - acc: 0.9925\n",
      "1875/1875 [==============================] - 10s 5ms/step - loss: 0.0175 - acc: 0.9942\n",
      "1875/1875 [==============================] - 10s 5ms/step - loss: 0.0121 - acc: 0.9974\n",
      "1875/1875 [==============================] - 10s 5ms/step - loss: 0.0120 - acc: 0.9962\n",
      "1875/1875 [==============================] - 10s 5ms/step - loss: 0.0311 - acc: 0.9895\n",
      "1875/1875 [==============================] - 10s 5ms/step - loss: 0.0141 - acc: 0.9953\n",
      "1875/1875 [==============================] - 10s 5ms/step - loss: 0.0166 - acc: 0.9949\n",
      "1875/1875 [==============================] - 10s 5ms/step - loss: 0.0216 - acc: 0.9926\n",
      "1875/1875 [==============================] - 10s 5ms/step - loss: 0.0170 - acc: 0.9940\n",
      "1875/1875 [==============================] - 10s 5ms/step - loss: 0.0122 - acc: 0.9975\n",
      "1875/1875 [==============================] - 10s 5ms/step - loss: 0.0153 - acc: 0.9955\n",
      "1875/1875 [==============================] - 10s 5ms/step - loss: 0.0285 - acc: 0.9902\n",
      "1875/1875 [==============================] - 10s 5ms/step - loss: 0.0119 - acc: 0.9959\n",
      "1875/1875 [==============================] - 10s 5ms/step - loss: 0.0140 - acc: 0.9954\n",
      "1875/1875 [==============================] - 10s 5ms/step - loss: 0.0224 - acc: 0.9929\n",
      "1875/1875 [==============================] - 10s 5ms/step - loss: 0.0184 - acc: 0.9936\n"
     ]
    },
    {
     "name": "stdout",
     "output_type": "stream",
     "text": [
      "1875/1875 [==============================] - 10s 5ms/step - loss: 0.0092 - acc: 0.9977\n",
      "1875/1875 [==============================] - 10s 5ms/step - loss: 0.0134 - acc: 0.9961\n",
      "1875/1875 [==============================] - 10s 5ms/step - loss: 0.0294 - acc: 0.9900\n",
      "1875/1875 [==============================] - 10s 5ms/step - loss: 0.0129 - acc: 0.9956\n",
      "1875/1875 [==============================] - 10s 5ms/step - loss: 0.0142 - acc: 0.9955\n",
      "1875/1875 [==============================] - 10s 5ms/step - loss: 0.0228 - acc: 0.9921\n",
      "1875/1875 [==============================] - 10s 5ms/step - loss: 0.0209 - acc: 0.9932\n",
      "1875/1875 [==============================] - 10s 5ms/step - loss: 0.0125 - acc: 0.9975\n",
      "1875/1875 [==============================] - 10s 5ms/step - loss: 0.0159 - acc: 0.9952\n",
      "1875/1875 [==============================] - 10s 5ms/step - loss: 0.0282 - acc: 0.9910\n",
      "1875/1875 [==============================] - 10s 5ms/step - loss: 0.0119 - acc: 0.9959\n",
      "1875/1875 [==============================] - 10s 5ms/step - loss: 0.0149 - acc: 0.9955\n",
      "1875/1875 [==============================] - 10s 5ms/step - loss: 0.0226 - acc: 0.9925\n",
      "1875/1875 [==============================] - 10s 5ms/step - loss: 0.0163 - acc: 0.9944\n",
      "1875/1875 [==============================] - 10s 5ms/step - loss: 0.0133 - acc: 0.9973\n",
      "1875/1875 [==============================] - 10s 5ms/step - loss: 0.0147 - acc: 0.9961\n",
      "1875/1875 [==============================] - 10s 5ms/step - loss: 0.0314 - acc: 0.9896\n",
      "1875/1875 [==============================] - 10s 5ms/step - loss: 0.0144 - acc: 0.9953\n",
      "1875/1875 [==============================] - 10s 5ms/step - loss: 0.0149 - acc: 0.9953\n",
      "1875/1875 [==============================] - 10s 5ms/step - loss: 0.0210 - acc: 0.9931\n",
      "1875/1875 [==============================] - 10s 5ms/step - loss: 0.0153 - acc: 0.9946\n",
      "1875/1875 [==============================] - 10s 5ms/step - loss: 0.0115 - acc: 0.9977\n",
      "1875/1875 [==============================] - 10s 5ms/step - loss: 0.0149 - acc: 0.9957\n",
      "1875/1875 [==============================] - 10s 5ms/step - loss: 0.0312 - acc: 0.9898\n",
      "1875/1875 [==============================] - 10s 5ms/step - loss: 0.0134 - acc: 0.9954\n",
      "1875/1875 [==============================] - 10s 5ms/step - loss: 0.0121 - acc: 0.9961\n",
      "1875/1875 [==============================] - 10s 5ms/step - loss: 0.0229 - acc: 0.9926\n",
      "1875/1875 [==============================] - 10s 5ms/step - loss: 0.0165 - acc: 0.9944\n",
      "1875/1875 [==============================] - 10s 5ms/step - loss: 0.0144 - acc: 0.9973\n",
      "1875/1875 [==============================] - 11s 6ms/step - loss: 0.0162 - acc: 0.9956\n",
      "1875/1875 [==============================] - 10s 5ms/step - loss: 0.0294 - acc: 0.9906\n",
      "1875/1875 [==============================] - 10s 5ms/step - loss: 0.0125 - acc: 0.9958\n",
      "1875/1875 [==============================] - 10s 5ms/step - loss: 0.0165 - acc: 0.9950\n",
      "1875/1875 [==============================] - 10s 5ms/step - loss: 0.0228 - acc: 0.9926\n",
      "1875/1875 [==============================] - 10s 5ms/step - loss: 0.0151 - acc: 0.9944\n",
      "1875/1875 [==============================] - 10s 5ms/step - loss: 0.0152 - acc: 0.9973\n",
      "1875/1875 [==============================] - 10s 5ms/step - loss: 0.0160 - acc: 0.9959\n",
      "1875/1875 [==============================] - 10s 6ms/step - loss: 0.0291 - acc: 0.9905\n",
      "1875/1875 [==============================] - 10s 5ms/step - loss: 0.0129 - acc: 0.9956\n",
      "1875/1875 [==============================] - 11s 6ms/step - loss: 0.0130 - acc: 0.9960\n",
      "1875/1875 [==============================] - 10s 6ms/step - loss: 0.0230 - acc: 0.9929\n",
      "1875/1875 [==============================] - 10s 5ms/step - loss: 0.0173 - acc: 0.9940\n",
      "1875/1875 [==============================] - 10s 5ms/step - loss: 0.0119 - acc: 0.9976\n",
      "1875/1875 [==============================] - 10s 5ms/step - loss: 0.0141 - acc: 0.9958\n",
      "1875/1875 [==============================] - 10s 6ms/step - loss: 0.0286 - acc: 0.9913\n",
      "1875/1875 [==============================] - 10s 5ms/step - loss: 0.0124 - acc: 0.9958\n",
      "1875/1875 [==============================] - 10s 5ms/step - loss: 0.0137 - acc: 0.9959\n",
      "1875/1875 [==============================] - 10s 5ms/step - loss: 0.0220 - acc: 0.992819 - acc: 0\n",
      "1875/1875 [==============================] - 10s 5ms/step - loss: 0.0161 - acc: 0.9943\n",
      "1875/1875 [==============================] - 10s 5ms/step - loss: 0.0130 - acc: 0.9970\n",
      "1875/1875 [==============================] - 10s 5ms/step - loss: 0.0183 - acc: 0.9952\n",
      "1875/1875 [==============================] - 10s 5ms/step - loss: 0.0310 - acc: 0.9900\n",
      "1875/1875 [==============================] - 10s 5ms/step - loss: 0.0141 - acc: 0.9954\n",
      "1875/1875 [==============================] - 10s 5ms/step - loss: 0.0150 - acc: 0.9952\n",
      "1875/1875 [==============================] - 10s 5ms/step - loss: 0.0207 - acc: 0.9933\n",
      "1875/1875 [==============================] - 10s 5ms/step - loss: 0.0181 - acc: 0.9940\n",
      "1875/1875 [==============================] - 10s 5ms/step - loss: 0.0112 - acc: 0.9976\n",
      "1875/1875 [==============================] - 10s 5ms/step - loss: 0.0161 - acc: 0.9955\n",
      "1875/1875 [==============================] - 10s 5ms/step - loss: 0.0300 - acc: 0.9903\n",
      "1875/1875 [==============================] - 10s 5ms/step - loss: 0.0143 - acc: 0.9950\n",
      "1875/1875 [==============================] - 10s 5ms/step - loss: 0.0162 - acc: 0.9951\n",
      "1875/1875 [==============================] - 10s 5ms/step - loss: 0.0217 - acc: 0.9926\n",
      "1875/1875 [==============================] - 10s 5ms/step - loss: 0.0159 - acc: 0.9947\n",
      "1875/1875 [==============================] - 10s 5ms/step - loss: 0.0118 - acc: 0.9974\n",
      "1875/1875 [==============================] - 10s 5ms/step - loss: 0.0151 - acc: 0.9960\n",
      "1875/1875 [==============================] - 10s 5ms/step - loss: 0.0329 - acc: 0.9894\n",
      "1875/1875 [==============================] - 10s 5ms/step - loss: 0.0122 - acc: 0.9956\n",
      "1875/1875 [==============================] - 10s 5ms/step - loss: 0.0139 - acc: 0.9957\n",
      "1875/1875 [==============================]17 - acc: 0.99 - 9s 5ms/step - loss: 0.0217 - acc: 0.9931\n",
      "1875/1875 [==============================] - 10s 5ms/step - loss: 0.0164 - acc: 0.9943\n",
      "1875/1875 [==============================] - 10s 5ms/step - loss: 0.0107 - acc: 0.9976\n",
      "1875/1875 [==============================] - 10s 5ms/step - loss: 0.0148 - acc: 0.9958\n",
      "1875/1875 [==============================] - 10s 5ms/step - loss: 0.0311 - acc: 0.9903\n",
      "1875/1875 [==============================] - 10s 5ms/step - loss: 0.0122 - acc: 0.9958\n",
      "1875/1875 [==============================] - 10s 5ms/step - loss: 0.0140 - acc: 0.9955\n",
      "1875/1875 [==============================] - 10s 5ms/step - loss: 0.0250 - acc: 0.9923\n",
      "1875/1875 [==============================] - 10s 5ms/step - loss: 0.0160 - acc: 0.9943\n",
      "1875/1875 [==============================] - 10s 5ms/step - loss: 0.0106 - acc: 0.9977\n",
      "1875/1875 [==============================] - 10s 5ms/step - loss: 0.0164 - acc: 0.9955\n",
      "1875/1875 [==============================] - 10s 5ms/step - loss: 0.0317 - acc: 0.9904\n",
      "1875/1875 [==============================] - 9s 5ms/step - loss: 0.0119 - acc: 0.9959\n",
      "1875/1875 [==============================] - 10s 5ms/step - loss: 0.0193 - acc: 0.9940\n",
      "1875/1875 [==============================] - 10s 5ms/step - loss: 0.0205 - acc: 0.9930\n",
      "1875/1875 [==============================] - 10s 5ms/step - loss: 0.0152 - acc: 0.9949\n",
      "1875/1875 [==============================] - 10s 6ms/step - loss: 0.0096 - acc: 0.9979\n",
      "1875/1875 [==============================] - 10s 5ms/step - loss: 0.0158 - acc: 0.9958\n",
      "1875/1875 [==============================] - 11s 6ms/step - loss: 0.0303 - acc: 0.9904\n",
      "1875/1875 [==============================] - 10s 5ms/step - loss: 0.0133 - acc: 0.9954\n",
      "1875/1875 [==============================] - 10s 5ms/step - loss: 0.0155 - acc: 0.9952\n",
      "1875/1875 [==============================] - 10s 5ms/step - loss: 0.0206 - acc: 0.9929\n",
      "1875/1875 [==============================] - 10s 5ms/step - loss: 0.0174 - acc: 0.9944\n",
      "1875/1875 [==============================] - 10s 5ms/step - loss: 0.0092 - acc: 0.9978\n",
      "1875/1875 [==============================] - 10s 5ms/step - loss: 0.0137 - acc: 0.9959\n",
      "1875/1875 [==============================] - 10s 5ms/step - loss: 0.0299 - acc: 0.9906\n",
      "1875/1875 [==============================] - 10s 5ms/step - loss: 0.0138 - acc: 0.9954\n",
      "1875/1875 [==============================] - 10s 6ms/step - loss: 0.0144 - acc: 0.9954\n",
      "1875/1875 [==============================] - 10s 5ms/step - loss: 0.0213 - acc: 0.9927\n",
      "1875/1875 [==============================] - 9s 5ms/step - loss: 0.0169 - acc: 0.9942\n",
      "1875/1875 [==============================] - 10s 5ms/step - loss: 0.0119 - acc: 0.9977\n",
      "1875/1875 [==============================] - 10s 5ms/step - loss: 0.0130 - acc: 0.9965\n",
      "1875/1875 [==============================] - 10s 5ms/step - loss: 0.0298 - acc: 0.9900\n",
      "1875/1875 [==============================] - 10s 5ms/step - loss: 0.0121 - acc: 0.9959\n",
      "1875/1875 [==============================] - 10s 5ms/step - loss: 0.0158 - acc: 0.9954\n",
      "1875/1875 [==============================] - 10s 5ms/step - loss: 0.0214 - acc: 0.9927\n",
      "1875/1875 [==============================] - 10s 5ms/step - loss: 0.0195 - acc: 0.9935\n",
      "1875/1875 [==============================] - 10s 5ms/step - loss: 0.0103 - acc: 0.9977\n",
      "1875/1875 [==============================] - 10s 5ms/step - loss: 0.0176 - acc: 0.9953\n",
      "1875/1875 [==============================] - 10s 5ms/step - loss: 0.0310 - acc: 0.9896\n",
      "1875/1875 [==============================] - 10s 5ms/step - loss: 0.0119 - acc: 0.9960\n",
      "1875/1875 [==============================] - 10s 5ms/step - loss: 0.0153 - acc: 0.9950\n",
      "1875/1875 [==============================] - 10s 5ms/step - loss: 0.0211 - acc: 0.9931\n",
      "1875/1875 [==============================] - 10s 5ms/step - loss: 0.0201 - acc: 0.9934\n",
      "1875/1875 [==============================] - 10s 5ms/step - loss: 0.0093 - acc: 0.9977\n",
      "1875/1875 [==============================] - 10s 5ms/step - loss: 0.0147 - acc: 0.9957\n",
      "1875/1875 [==============================] - 10s 5ms/step - loss: 0.0289 - acc: 0.9905\n",
      "1875/1875 [==============================] - 10s 5ms/step - loss: 0.0129 - acc: 0.9960\n",
      "1875/1875 [==============================] - 10s 5ms/step - loss: 0.0173 - acc: 0.9947\n",
      "1875/1875 [==============================] - 10s 5ms/step - loss: 0.0218 - acc: 0.9926\n",
      "1875/1875 [==============================] - 10s 5ms/step - loss: 0.0171 - acc: 0.9941\n",
      "1875/1875 [==============================] - 10s 5ms/step - loss: 0.0084 - acc: 0.9983\n",
      "1875/1875 [==============================] - 10s 5ms/step - loss: 0.0143 - acc: 0.9960\n",
      "1875/1875 [==============================] - 10s 5ms/step - loss: 0.0328 - acc: 0.9896\n",
      "1875/1875 [==============================] - 10s 5ms/step - loss: 0.0137 - acc: 0.9953\n",
      "1875/1875 [==============================] - 10s 5ms/step - loss: 0.0144 - acc: 0.9952\n",
      "1875/1875 [==============================] - 10s 6ms/step - loss: 0.0214 - acc: 0.9926\n",
      "1875/1875 [==============================] - 10s 5ms/step - loss: 0.0164 - acc: 0.9946\n",
      "1875/1875 [==============================] - 10s 5ms/step - loss: 0.0089 - acc: 0.9978\n",
      "1875/1875 [==============================] - 10s 5ms/step - loss: 0.0150 - acc: 0.9959\n",
      "1875/1875 [==============================] - 10s 5ms/step - loss: 0.0287 - acc: 0.9902\n",
      "1875/1875 [==============================] - 10s 5ms/step - loss: 0.0147 - acc: 0.9952\n",
      "1875/1875 [==============================] - 10s 5ms/step - loss: 0.0131 - acc: 0.9959\n",
      "1875/1875 [==============================] - 10s 5ms/step - loss: 0.0229 - acc: 0.9928\n",
      "1875/1875 [==============================] - 9s 5ms/step - loss: 0.0172 - acc: 0.9941\n",
      "1875/1875 [==============================] - 10s 5ms/step - loss: 0.0139 - acc: 0.9973\n",
      "1875/1875 [==============================] - 10s 5ms/step - loss: 0.0139 - acc: 0.9958\n",
      "1875/1875 [==============================] - 10s 5ms/step - loss: 0.0291 - acc: 0.9909\n",
      "1875/1875 [==============================] - 10s 5ms/step - loss: 0.0129 - acc: 0.9954\n",
      "1875/1875 [==============================] - 10s 5ms/step - loss: 0.0149 - acc: 0.9952\n",
      "1875/1875 [==============================] - 10s 5ms/step - loss: 0.0228 - acc: 0.9928\n",
      "1875/1875 [==============================] - 10s 5ms/step - loss: 0.0188 - acc: 0.9941\n",
      "\n",
      "Elapsed time: 116.574230 minutes\n"
     ]
    }
   ],
   "source": [
    "start_time = time.time()\n",
    "\n",
    "for multitask_epoch in tqdm(range(n_epochs)):\n",
    "\n",
    "    #Can't set hot until model has been fit or built with sequential model\n",
    "    try:\n",
    "        conv_model.layers[n_task_idx].set_hot_context(0)\n",
    "    \n",
    "    except:\n",
    "        pass\n",
    "    \n",
    "    #MNIST training\n",
    "    conv_model.fit(train_ds, epochs=epcohs_per_task ,shuffle=False)\n",
    "\n",
    "    #odd training\n",
    "    conv_model.layers[n_task_idx].set_hot_context(1)\n",
    "    conv_model.fit(odd_train_ds, epochs=epcohs_per_task ,shuffle=False)\n",
    "    \n",
    "    #div_3 training\n",
    "    conv_model.layers[n_task_idx].set_hot_context(2)\n",
    "    conv_model.fit(div_3_train_ds, epochs=epcohs_per_task ,shuffle=False)\n",
    "    \n",
    "    #div_5 training\n",
    "    conv_model.layers[n_task_idx].set_hot_context(3)\n",
    "    conv_model.fit(div_5_train_ds, epochs=epcohs_per_task ,shuffle=False)\n",
    "\n",
    "    #even training\n",
    "    conv_model.layers[n_task_idx].set_hot_context(4)\n",
    "    conv_model.fit(even_train_ds, epochs=epcohs_per_task ,shuffle=False)\n",
    "\n",
    "    #bottom training\n",
    "    conv_model.layers[n_task_idx].set_hot_context(5)\n",
    "    conv_model.fit(bottom_train_ds, epochs=epcohs_per_task ,shuffle=False)\n",
    "\n",
    "    #top training\n",
    "    conv_model.layers[n_task_idx].set_hot_context(6)\n",
    "    conv_model.fit(top_train_ds, epochs=epcohs_per_task ,shuffle=False)\n",
    "\n",
    "end_time = time.time()\n",
    "print(\"Elapsed time: {:2f} minutes\".format((end_time - start_time)/60))"
   ]
  },
  {
   "cell_type": "code",
   "execution_count": 47,
   "metadata": {},
   "outputs": [],
   "source": [
    "#(end_time-start_time)/60"
   ]
  },
  {
   "cell_type": "markdown",
   "metadata": {},
   "source": [
    "#### Evaluate model"
   ]
  },
  {
   "cell_type": "markdown",
   "metadata": {},
   "source": [
    "# Model has pretty accuractely learned the 7 tasks to its 7 contexts"
   ]
  },
  {
   "cell_type": "code",
   "execution_count": 47,
   "metadata": {},
   "outputs": [
    {
     "name": "stdout",
     "output_type": "stream",
     "text": [
      "MNIST\n",
      "313/313 [==============================] - 1s 3ms/step - loss: 0.1329 - acc: 0.9854\n",
      "Test loss: 0.13293178665411146\n",
      "Test accuracy: 0.9854\n",
      "\n",
      "Odd\n",
      "313/313 [==============================] - 1s 2ms/step - loss: 0.0847 - acc: 0.9836\n",
      "Test loss: 0.0846629048427571\n",
      "Test accuracy: 0.9836\n",
      "\n",
      "Div 3\n",
      "313/313 [==============================] - 1s 2ms/step - loss: 0.2488 - acc: 0.9484\n",
      "Test loss: 0.24879794012116918\n",
      "Test accuracy: 0.9484\n",
      "\n",
      "Div 5\n",
      "313/313 [==============================] - 1s 2ms/step - loss: 0.1198 - acc: 0.9765A: 0s - loss: 0.1043 -\n",
      "Test loss: 0.119822266672538\n",
      "Test accuracy: 0.9765\n",
      "\n",
      "Even\n",
      "313/313 [==============================] - 1s 2ms/step - loss: 0.1200 - acc: 0.9784\n",
      "Test loss: 0.11996755623433414\n",
      "Test accuracy: 0.9784\n",
      "\n",
      "Bottom\n",
      "313/313 [==============================] - 1s 2ms/step - loss: 0.0819 - acc: 0.9838\n",
      "Test loss: 0.08186503138546346\n",
      "Test accuracy: 0.9838\n",
      "\n",
      "Top\n",
      "313/313 [==============================] - 1s 2ms/step - loss: 0.0875 - acc: 0.9833\n",
      "Test loss: 0.08748524494700581\n",
      "Test accuracy: 0.9833\n",
      "\n"
     ]
    }
   ],
   "source": [
    "# MNIST\n",
    "print(\"MNIST\")\n",
    "conv_model.layers[n_task_idx].set_hot_context(0)\n",
    "eval_performance(conv_model, test_ds)\n",
    "print()\n",
    "\n",
    "# Odd\n",
    "print(\"Odd\")\n",
    "conv_model.layers[n_task_idx].set_hot_context(1)\n",
    "eval_performance(conv_model, odd_test_ds)\n",
    "print()\n",
    "\n",
    "# Div 3\n",
    "print(\"Div 3\")\n",
    "conv_model.layers[n_task_idx].set_hot_context(2)\n",
    "eval_performance(conv_model, div_3_test_ds)\n",
    "print()\n",
    "\n",
    "# Div 5\n",
    "print(\"Div 5\")\n",
    "conv_model.layers[n_task_idx].set_hot_context(3)\n",
    "eval_performance(conv_model, div_5_test_ds)\n",
    "print()\n",
    "\n",
    "# Even\n",
    "print(\"Even\")\n",
    "conv_model.layers[n_task_idx].set_hot_context(4)\n",
    "eval_performance(conv_model, even_test_ds)\n",
    "print()\n",
    "\n",
    "# Bottom half digits\n",
    "print(\"Bottom\")\n",
    "conv_model.layers[n_task_idx].set_hot_context(5)\n",
    "eval_performance(conv_model, bottom_test_ds)\n",
    "print()\n",
    "\n",
    "# Top half digits\n",
    "print(\"Top\")\n",
    "conv_model.layers[n_task_idx].set_hot_context(6)\n",
    "eval_performance(conv_model, top_test_ds)\n",
    "print()"
   ]
  },
  {
   "cell_type": "code",
   "execution_count": null,
   "metadata": {},
   "outputs": [],
   "source": []
  },
  {
   "cell_type": "code",
   "execution_count": null,
   "metadata": {},
   "outputs": [],
   "source": []
  },
  {
   "cell_type": "code",
   "execution_count": null,
   "metadata": {},
   "outputs": [],
   "source": []
  }
 ],
 "metadata": {
  "kernelspec": {
   "display_name": "Python 3",
   "language": "python",
   "name": "python3"
  },
  "language_info": {
   "codemirror_mode": {
    "name": "ipython",
    "version": 3
   },
   "file_extension": ".py",
   "mimetype": "text/x-python",
   "name": "python",
   "nbconvert_exporter": "python",
   "pygments_lexer": "ipython3",
   "version": "3.6.8"
  }
 },
 "nbformat": 4,
 "nbformat_minor": 2
}
